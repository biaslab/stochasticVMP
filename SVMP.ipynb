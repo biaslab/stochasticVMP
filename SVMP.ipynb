{
 "cells": [
  {
   "cell_type": "code",
   "execution_count": 1,
   "metadata": {},
   "outputs": [],
   "source": [
    "include(\"BayesianUtilities/BayesianUtilities.jl\")\n",
    "using Plots, LinearAlgebra, Distributions, Random, ForwardDiff, DelimitedFiles, DataFrames, .BayesianUtilities"
   ]
  },
  {
   "cell_type": "code",
   "execution_count": 2,
   "metadata": {},
   "outputs": [
    {
     "data": {
      "text/plain": [
       "Eigen{Complex{Float64},Complex{Float64},Array{Complex{Float64},2},Array{Complex{Float64},1}}\n",
       "eigenvalues:\n",
       "2-element Array{Complex{Float64},1}:\n",
       " 0.8999999999999999 + 0.33166247903553997im\n",
       " 0.8999999999999999 - 0.33166247903553997im\n",
       "eigenvectors:\n",
       "2×2 Array{Complex{Float64},2}:\n",
       " 0.755929+0.0im       0.755929-0.0im     \n",
       " 0.188982-0.626783im  0.188982+0.626783im"
      ]
     },
     "execution_count": 2,
     "metadata": {},
     "output_type": "execute_result"
    }
   ],
   "source": [
    "# True unknown position update matrix for the moving object\n",
    "Random.seed!(1)\n",
    "M = [1. -0.4; 0.3 0.8]\n",
    "eigen(M)"
   ]
  },
  {
   "cell_type": "code",
   "execution_count": 3,
   "metadata": {},
   "outputs": [],
   "source": [
    "T = 15\n",
    "position = 3*ones(2,T)\n",
    "\n",
    "for t=2:T\n",
    "    position[:,t] = M*position[:,t-1]\n",
    "end"
   ]
  },
  {
   "cell_type": "code",
   "execution_count": 4,
   "metadata": {},
   "outputs": [],
   "source": [
    "# sensor locations\n",
    "sensor1 = [5.,5.]\n",
    "sensor2 = [-2.,0.]\n",
    "sensor3 = [0.,15.]\n",
    ";"
   ]
  },
  {
   "cell_type": "code",
   "execution_count": 5,
   "metadata": {},
   "outputs": [
    {
     "data": {
      "image/svg+xml": [
       "<?xml version=\"1.0\" encoding=\"utf-8\"?>\n",
       "<svg xmlns=\"http://www.w3.org/2000/svg\" xmlns:xlink=\"http://www.w3.org/1999/xlink\" width=\"600\" height=\"400\" viewBox=\"0 0 2400 1600\">\n",
       "<defs>\n",
       "  <clipPath id=\"clip6100\">\n",
       "    <rect x=\"0\" y=\"0\" width=\"2400\" height=\"1600\"/>\n",
       "  </clipPath>\n",
       "</defs>\n",
       "<path clip-path=\"url(#clip6100)\" d=\"\n",
       "M0 1600 L2400 1600 L2400 0 L0 0  Z\n",
       "  \" fill=\"#ffffff\" fill-rule=\"evenodd\" fill-opacity=\"1\"/>\n",
       "<defs>\n",
       "  <clipPath id=\"clip6101\">\n",
       "    <rect x=\"480\" y=\"0\" width=\"1681\" height=\"1600\"/>\n",
       "  </clipPath>\n",
       "</defs>\n",
       "<path clip-path=\"url(#clip6100)\" d=\"\n",
       "M140.517 1487.47 L2352.76 1487.47 L2352.76 47.2441 L140.517 47.2441  Z\n",
       "  \" fill=\"#ffffff\" fill-rule=\"evenodd\" fill-opacity=\"1\"/>\n",
       "<defs>\n",
       "  <clipPath id=\"clip6102\">\n",
       "    <rect x=\"140\" y=\"47\" width=\"2213\" height=\"1441\"/>\n",
       "  </clipPath>\n",
       "</defs>\n",
       "<polyline clip-path=\"url(#clip6102)\" style=\"stroke:#000000; stroke-width:2; stroke-opacity:0.1; fill:none\" points=\"\n",
       "  468.639,1487.47 468.639,47.2441 \n",
       "  \"/>\n",
       "<polyline clip-path=\"url(#clip6102)\" style=\"stroke:#000000; stroke-width:2; stroke-opacity:0.1; fill:none\" points=\"\n",
       "  989.069,1487.47 989.069,47.2441 \n",
       "  \"/>\n",
       "<polyline clip-path=\"url(#clip6102)\" style=\"stroke:#000000; stroke-width:2; stroke-opacity:0.1; fill:none\" points=\"\n",
       "  1509.5,1487.47 1509.5,47.2441 \n",
       "  \"/>\n",
       "<polyline clip-path=\"url(#clip6102)\" style=\"stroke:#000000; stroke-width:2; stroke-opacity:0.1; fill:none\" points=\"\n",
       "  2029.93,1487.47 2029.93,47.2441 \n",
       "  \"/>\n",
       "<polyline clip-path=\"url(#clip6102)\" style=\"stroke:#000000; stroke-width:2; stroke-opacity:0.1; fill:none\" points=\"\n",
       "  140.517,1267.32 2352.76,1267.32 \n",
       "  \"/>\n",
       "<polyline clip-path=\"url(#clip6102)\" style=\"stroke:#000000; stroke-width:2; stroke-opacity:0.1; fill:none\" points=\"\n",
       "  140.517,874.214 2352.76,874.214 \n",
       "  \"/>\n",
       "<polyline clip-path=\"url(#clip6102)\" style=\"stroke:#000000; stroke-width:2; stroke-opacity:0.1; fill:none\" points=\"\n",
       "  140.517,481.11 2352.76,481.11 \n",
       "  \"/>\n",
       "<polyline clip-path=\"url(#clip6102)\" style=\"stroke:#000000; stroke-width:2; stroke-opacity:0.1; fill:none\" points=\"\n",
       "  140.517,88.0053 2352.76,88.0053 \n",
       "  \"/>\n",
       "<polyline clip-path=\"url(#clip6100)\" style=\"stroke:#000000; stroke-width:4; stroke-opacity:1; fill:none\" points=\"\n",
       "  140.517,1487.47 2352.76,1487.47 \n",
       "  \"/>\n",
       "<polyline clip-path=\"url(#clip6100)\" style=\"stroke:#000000; stroke-width:4; stroke-opacity:1; fill:none\" points=\"\n",
       "  140.517,1487.47 140.517,47.2441 \n",
       "  \"/>\n",
       "<polyline clip-path=\"url(#clip6100)\" style=\"stroke:#000000; stroke-width:4; stroke-opacity:1; fill:none\" points=\"\n",
       "  468.639,1487.47 468.639,1470.19 \n",
       "  \"/>\n",
       "<polyline clip-path=\"url(#clip6100)\" style=\"stroke:#000000; stroke-width:4; stroke-opacity:1; fill:none\" points=\"\n",
       "  989.069,1487.47 989.069,1470.19 \n",
       "  \"/>\n",
       "<polyline clip-path=\"url(#clip6100)\" style=\"stroke:#000000; stroke-width:4; stroke-opacity:1; fill:none\" points=\"\n",
       "  1509.5,1487.47 1509.5,1470.19 \n",
       "  \"/>\n",
       "<polyline clip-path=\"url(#clip6100)\" style=\"stroke:#000000; stroke-width:4; stroke-opacity:1; fill:none\" points=\"\n",
       "  2029.93,1487.47 2029.93,1470.19 \n",
       "  \"/>\n",
       "<polyline clip-path=\"url(#clip6100)\" style=\"stroke:#000000; stroke-width:4; stroke-opacity:1; fill:none\" points=\"\n",
       "  140.517,1267.32 167.064,1267.32 \n",
       "  \"/>\n",
       "<polyline clip-path=\"url(#clip6100)\" style=\"stroke:#000000; stroke-width:4; stroke-opacity:1; fill:none\" points=\"\n",
       "  140.517,874.214 167.064,874.214 \n",
       "  \"/>\n",
       "<polyline clip-path=\"url(#clip6100)\" style=\"stroke:#000000; stroke-width:4; stroke-opacity:1; fill:none\" points=\"\n",
       "  140.517,481.11 167.064,481.11 \n",
       "  \"/>\n",
       "<polyline clip-path=\"url(#clip6100)\" style=\"stroke:#000000; stroke-width:4; stroke-opacity:1; fill:none\" points=\"\n",
       "  140.517,88.0053 167.064,88.0053 \n",
       "  \"/>\n",
       "<g clip-path=\"url(#clip6100)\">\n",
       "<text style=\"fill:#000000; fill-opacity:1; font-family:Arial,Helvetica Neue,Helvetica,sans-serif; font-size:48px; text-anchor:middle;\" transform=\"rotate(0, 468.639, 1541.47)\" x=\"468.639\" y=\"1541.47\">-2</text>\n",
       "</g>\n",
       "<g clip-path=\"url(#clip6100)\">\n",
       "<text style=\"fill:#000000; fill-opacity:1; font-family:Arial,Helvetica Neue,Helvetica,sans-serif; font-size:48px; text-anchor:middle;\" transform=\"rotate(0, 989.069, 1541.47)\" x=\"989.069\" y=\"1541.47\">0</text>\n",
       "</g>\n",
       "<g clip-path=\"url(#clip6100)\">\n",
       "<text style=\"fill:#000000; fill-opacity:1; font-family:Arial,Helvetica Neue,Helvetica,sans-serif; font-size:48px; text-anchor:middle;\" transform=\"rotate(0, 1509.5, 1541.47)\" x=\"1509.5\" y=\"1541.47\">2</text>\n",
       "</g>\n",
       "<g clip-path=\"url(#clip6100)\">\n",
       "<text style=\"fill:#000000; fill-opacity:1; font-family:Arial,Helvetica Neue,Helvetica,sans-serif; font-size:48px; text-anchor:middle;\" transform=\"rotate(0, 2029.93, 1541.47)\" x=\"2029.93\" y=\"1541.47\">4</text>\n",
       "</g>\n",
       "<g clip-path=\"url(#clip6100)\">\n",
       "<text style=\"fill:#000000; fill-opacity:1; font-family:Arial,Helvetica Neue,Helvetica,sans-serif; font-size:48px; text-anchor:end;\" transform=\"rotate(0, 116.517, 1284.82)\" x=\"116.517\" y=\"1284.82\">0</text>\n",
       "</g>\n",
       "<g clip-path=\"url(#clip6100)\">\n",
       "<text style=\"fill:#000000; fill-opacity:1; font-family:Arial,Helvetica Neue,Helvetica,sans-serif; font-size:48px; text-anchor:end;\" transform=\"rotate(0, 116.517, 891.714)\" x=\"116.517\" y=\"891.714\">5</text>\n",
       "</g>\n",
       "<g clip-path=\"url(#clip6100)\">\n",
       "<text style=\"fill:#000000; fill-opacity:1; font-family:Arial,Helvetica Neue,Helvetica,sans-serif; font-size:48px; text-anchor:end;\" transform=\"rotate(0, 116.517, 498.61)\" x=\"116.517\" y=\"498.61\">10</text>\n",
       "</g>\n",
       "<g clip-path=\"url(#clip6100)\">\n",
       "<text style=\"fill:#000000; fill-opacity:1; font-family:Arial,Helvetica Neue,Helvetica,sans-serif; font-size:48px; text-anchor:end;\" transform=\"rotate(0, 116.517, 105.505)\" x=\"116.517\" y=\"105.505\">15</text>\n",
       "</g>\n",
       "<polyline clip-path=\"url(#clip6102)\" style=\"stroke:#8b0000; stroke-width:4; stroke-opacity:1; fill:none\" points=\"\n",
       "  1769.71,1031.46 1457.46,1007.87 1113.97,1017.3 782.979,1055.99 503.195,1116.93 304.099,1191.05 203.127,1268.39 204.546,1339.41 299.994,1396.11 470.496,1432.81 \n",
       "  689.586,1446.71 927.086,1437.98 1153.02,1409.47 1341.21,1366.18 1472.09,1314.49 \n",
       "  \"/>\n",
       "<circle clip-path=\"url(#clip6102)\" cx=\"1769.71\" cy=\"1031.46\" r=\"14\" fill=\"#8b0000\" fill-rule=\"evenodd\" fill-opacity=\"1\" stroke=\"#000000\" stroke-opacity=\"1\" stroke-width=\"3.2\"/>\n",
       "<circle clip-path=\"url(#clip6102)\" cx=\"1457.46\" cy=\"1007.87\" r=\"14\" fill=\"#8b0000\" fill-rule=\"evenodd\" fill-opacity=\"1\" stroke=\"#000000\" stroke-opacity=\"1\" stroke-width=\"3.2\"/>\n",
       "<circle clip-path=\"url(#clip6102)\" cx=\"1113.97\" cy=\"1017.3\" r=\"14\" fill=\"#8b0000\" fill-rule=\"evenodd\" fill-opacity=\"1\" stroke=\"#000000\" stroke-opacity=\"1\" stroke-width=\"3.2\"/>\n",
       "<circle clip-path=\"url(#clip6102)\" cx=\"782.979\" cy=\"1055.99\" r=\"14\" fill=\"#8b0000\" fill-rule=\"evenodd\" fill-opacity=\"1\" stroke=\"#000000\" stroke-opacity=\"1\" stroke-width=\"3.2\"/>\n",
       "<circle clip-path=\"url(#clip6102)\" cx=\"503.195\" cy=\"1116.93\" r=\"14\" fill=\"#8b0000\" fill-rule=\"evenodd\" fill-opacity=\"1\" stroke=\"#000000\" stroke-opacity=\"1\" stroke-width=\"3.2\"/>\n",
       "<circle clip-path=\"url(#clip6102)\" cx=\"304.099\" cy=\"1191.05\" r=\"14\" fill=\"#8b0000\" fill-rule=\"evenodd\" fill-opacity=\"1\" stroke=\"#000000\" stroke-opacity=\"1\" stroke-width=\"3.2\"/>\n",
       "<circle clip-path=\"url(#clip6102)\" cx=\"203.127\" cy=\"1268.39\" r=\"14\" fill=\"#8b0000\" fill-rule=\"evenodd\" fill-opacity=\"1\" stroke=\"#000000\" stroke-opacity=\"1\" stroke-width=\"3.2\"/>\n",
       "<circle clip-path=\"url(#clip6102)\" cx=\"204.546\" cy=\"1339.41\" r=\"14\" fill=\"#8b0000\" fill-rule=\"evenodd\" fill-opacity=\"1\" stroke=\"#000000\" stroke-opacity=\"1\" stroke-width=\"3.2\"/>\n",
       "<circle clip-path=\"url(#clip6102)\" cx=\"299.994\" cy=\"1396.11\" r=\"14\" fill=\"#8b0000\" fill-rule=\"evenodd\" fill-opacity=\"1\" stroke=\"#000000\" stroke-opacity=\"1\" stroke-width=\"3.2\"/>\n",
       "<circle clip-path=\"url(#clip6102)\" cx=\"470.496\" cy=\"1432.81\" r=\"14\" fill=\"#8b0000\" fill-rule=\"evenodd\" fill-opacity=\"1\" stroke=\"#000000\" stroke-opacity=\"1\" stroke-width=\"3.2\"/>\n",
       "<circle clip-path=\"url(#clip6102)\" cx=\"689.586\" cy=\"1446.71\" r=\"14\" fill=\"#8b0000\" fill-rule=\"evenodd\" fill-opacity=\"1\" stroke=\"#000000\" stroke-opacity=\"1\" stroke-width=\"3.2\"/>\n",
       "<circle clip-path=\"url(#clip6102)\" cx=\"927.086\" cy=\"1437.98\" r=\"14\" fill=\"#8b0000\" fill-rule=\"evenodd\" fill-opacity=\"1\" stroke=\"#000000\" stroke-opacity=\"1\" stroke-width=\"3.2\"/>\n",
       "<circle clip-path=\"url(#clip6102)\" cx=\"1153.02\" cy=\"1409.47\" r=\"14\" fill=\"#8b0000\" fill-rule=\"evenodd\" fill-opacity=\"1\" stroke=\"#000000\" stroke-opacity=\"1\" stroke-width=\"3.2\"/>\n",
       "<circle clip-path=\"url(#clip6102)\" cx=\"1341.21\" cy=\"1366.18\" r=\"14\" fill=\"#8b0000\" fill-rule=\"evenodd\" fill-opacity=\"1\" stroke=\"#000000\" stroke-opacity=\"1\" stroke-width=\"3.2\"/>\n",
       "<circle clip-path=\"url(#clip6102)\" cx=\"1472.09\" cy=\"1314.49\" r=\"14\" fill=\"#8b0000\" fill-rule=\"evenodd\" fill-opacity=\"1\" stroke=\"#000000\" stroke-opacity=\"1\" stroke-width=\"3.2\"/>\n",
       "<path clip-path=\"url(#clip6102)\" d=\"M2270.15 854.214 L2270.15 894.214 L2310.15 894.214 L2310.15 854.214 L2270.15 854.214 Z\" fill=\"#000000\" fill-rule=\"evenodd\" fill-opacity=\"1\" stroke=\"none\"/>\n",
       "<path clip-path=\"url(#clip6102)\" d=\"M448.639 1247.32 L448.639 1287.32 L488.639 1287.32 L488.639 1247.32 L448.639 1247.32 Z\" fill=\"#000000\" fill-rule=\"evenodd\" fill-opacity=\"1\" stroke=\"none\"/>\n",
       "<path clip-path=\"url(#clip6102)\" d=\"M969.069 68.0053 L969.069 108.005 L1009.07 108.005 L1009.07 68.0053 L969.069 68.0053 Z\" fill=\"#000000\" fill-rule=\"evenodd\" fill-opacity=\"1\" stroke=\"none\"/>\n",
       "<path clip-path=\"url(#clip6100)\" d=\"\n",
       "M212.517 372.684 L918.018 372.684 L918.018 130.764 L212.517 130.764  Z\n",
       "  \" fill=\"#ffffff\" fill-rule=\"evenodd\" fill-opacity=\"1\"/>\n",
       "<polyline clip-path=\"url(#clip6100)\" style=\"stroke:#000000; stroke-width:4; stroke-opacity:1; fill:none\" points=\"\n",
       "  212.517,372.684 918.018,372.684 918.018,130.764 212.517,130.764 212.517,372.684 \n",
       "  \"/>\n",
       "<polyline clip-path=\"url(#clip6100)\" style=\"stroke:#8b0000; stroke-width:4; stroke-opacity:1; fill:none\" points=\"\n",
       "  236.517,191.244 380.517,191.244 \n",
       "  \"/>\n",
       "<g clip-path=\"url(#clip6100)\">\n",
       "<text style=\"fill:#000000; fill-opacity:1; font-family:Arial,Helvetica Neue,Helvetica,sans-serif; font-size:48px; text-anchor:start;\" transform=\"rotate(0, 404.517, 208.744)\" x=\"404.517\" y=\"208.744\">Interpolated trajectory</text>\n",
       "</g>\n",
       "<circle clip-path=\"url(#clip6100)\" cx=\"320.517\" cy=\"251.724\" r=\"21\" fill=\"#8b0000\" fill-rule=\"evenodd\" fill-opacity=\"1\" stroke=\"#000000\" stroke-opacity=\"1\" stroke-width=\"3.2\"/>\n",
       "<g clip-path=\"url(#clip6100)\">\n",
       "<text style=\"fill:#000000; fill-opacity:1; font-family:Arial,Helvetica Neue,Helvetica,sans-serif; font-size:48px; text-anchor:start;\" transform=\"rotate(0, 404.517, 269.224)\" x=\"404.517\" y=\"269.224\">True positions</text>\n",
       "</g>\n",
       "<path clip-path=\"url(#clip6100)\" d=\"M296.517 288.204 L296.517 336.204 L344.517 336.204 L344.517 288.204 L296.517 288.204 Z\" fill=\"#000000\" fill-rule=\"evenodd\" fill-opacity=\"1\" stroke=\"none\"/>\n",
       "<g clip-path=\"url(#clip6100)\">\n",
       "<text style=\"fill:#000000; fill-opacity:1; font-family:Arial,Helvetica Neue,Helvetica,sans-serif; font-size:48px; text-anchor:start;\" transform=\"rotate(0, 404.517, 329.704)\" x=\"404.517\" y=\"329.704\">sensors</text>\n",
       "</g>\n",
       "</svg>\n"
      ]
     },
     "execution_count": 5,
     "metadata": {},
     "output_type": "execute_result"
    }
   ],
   "source": [
    "# Visualization of sensors and true discrete positions of the moving object\n",
    "plot(position[1,:],position[2,:],color=:redsblues,legend=:topleft, label=\"Interpolated trajectory\")\n",
    "plot!(position[1,:],position[2,:], seriestype = :scatter,color=:redsblues, label=\"True positions\")\n",
    "plot!([sensor1[1],sensor2[1],sensor3[1]],[sensor1[2],sensor2[2],sensor3[2]],seriestype = :scatter,color=:black, markersize=5, markershape=:square, label=\"sensors\")"
   ]
  },
  {
   "cell_type": "code",
   "execution_count": 6,
   "metadata": {},
   "outputs": [],
   "source": [
    "observation = zeros(3,T)\n",
    "\n",
    "disturbance1 = Normal(0,sqrt(0.2))\n",
    "disturbance2 = Normal(0,sqrt(0.25))\n",
    "disturbance3 = Normal(0,sqrt(0.2))\n",
    "\n",
    "for t=1:T\n",
    "    o1 = sqrt(sum((position[:,t]-sensor1).^2)) + rand(disturbance1)\n",
    "    o2 = sqrt(sum((position[:,t]-sensor2).^2)) + rand(disturbance2)\n",
    "    o3 = sqrt(sum((position[:,t]-sensor3).^2)) + rand(disturbance3)\n",
    "    obs = [o1,o2,o3]\n",
    "    observation[:,t] = obs\n",
    "end"
   ]
  },
  {
   "cell_type": "markdown",
   "metadata": {},
   "source": [
    "# Model Specification"
   ]
  },
  {
   "cell_type": "code",
   "execution_count": 7,
   "metadata": {},
   "outputs": [
    {
     "data": {
      "text/plain": [
       "log_likelihood (generic function with 1 method)"
      ]
     },
     "execution_count": 7,
     "metadata": {},
     "output_type": "execute_result"
    }
   ],
   "source": [
    "# Newtonian dynamics assumption\n",
    "A = [1. 0. 1. 0.; 0. 1. 0. 1.; 0. 0. 1. 0.; 0. 0. 0. 1.]\n",
    "B = [1. 0. 0. 0.; 0. 1. 0. 0.]\n",
    "\n",
    "# Priors\n",
    "p_r = MvNormal(zeros(3),[0.2 0.1 0.1;0.1 0.2 0.1; 0.1 0.1 0.2])\n",
    "p_z_init = MvNormal(zeros(4),100*diagm(0=>ones(4)))\n",
    "p_W = Wishart(4,diagm(0=>ones(4)))\n",
    "\n",
    "# Non-conjugate loglikelihood function\n",
    "function log_likelihood(y,z,r)\n",
    "    x = B*z\n",
    "    o1_est = sqrt(sum((x-sensor1).^2))\n",
    "    o2_est = sqrt(sum((x-sensor2).^2))\n",
    "    o3_est = sqrt(sum((x-sensor3).^2))\n",
    "    o_est = [o1_est,o2_est,o3_est]\n",
    "    R = diagm(0=>exp.(r))\n",
    "    logpdf(MvNormal(o_est,R),y)\n",
    "end"
   ]
  },
  {
   "cell_type": "markdown",
   "metadata": {},
   "source": [
    "# Prod functions"
   ]
  },
  {
   "cell_type": "code",
   "execution_count": 8,
   "metadata": {},
   "outputs": [
    {
     "data": {
      "text/plain": [
       "prod (generic function with 1 method)"
      ]
     },
     "execution_count": 8,
     "metadata": {},
     "output_type": "execute_result"
    }
   ],
   "source": [
    "# Product of two multivariate Gaussian messages\n",
    "function prod(p1::MvNormal, p2::MvNormal)\n",
    "    S = cov(p1)+cov(p2)\n",
    "    L = cholesky(S).L\n",
    "    Linv = inv(L)\n",
    "    S1 = Linv*cov(p1)\n",
    "    S2 = Linv*cov(p2)\n",
    "    m1 = Linv*mean(p1)\n",
    "    m2 = Linv*mean(p2)\n",
    "    S3 = Matrix(Hermitian(S1'*S2))\n",
    "    m3 = S2'*m1 + S1'*m2\n",
    "    return MvNormal(m3,S3)\n",
    "end"
   ]
  },
  {
   "cell_type": "markdown",
   "metadata": {},
   "source": [
    "# Inference"
   ]
  },
  {
   "cell_type": "code",
   "execution_count": 9,
   "metadata": {},
   "outputs": [],
   "source": [
    "# initialize recognition factors for r and W so that q_z can be updated\n",
    "q_r = MvNormal(zeros(3),0.1*diagm(0=>ones(3)))\n",
    "q_W = Wishart(4,diagm(0=>ones(4)))\n",
    ";"
   ]
  },
  {
   "cell_type": "code",
   "execution_count": 10,
   "metadata": {},
   "outputs": [
    {
     "data": {
      "text/plain": [
       "approx_message_z (generic function with 1 method)"
      ]
     },
     "execution_count": 10,
     "metadata": {},
     "output_type": "execute_result"
    }
   ],
   "source": [
    "# Lower diagonal Cholesky component of covariance function for z\n",
    "function Low(param)\n",
    "    return [param[5] 0 0 0; param[6] param[7] 0 0; param[8] param[9] param[10] 0; param[11] param[12] param[13] param[14]]\n",
    "end\n",
    "\n",
    "# SVMP message towards z\n",
    "function approx_message_z(obs::Array,mes_income::MvNormal,q_r::MvNormal,η::Number,n_its::Number,S::Number)\n",
    "    grad_past = zeros(14) # 4 mean, 10 lower triangular of chlesky component for cov\n",
    "    G = zeros(14,14) # required in Adam optimization to keep track of how gradients behave\n",
    "    param = rand(14) # parameters to be estimated, randomly initialized with small positive numbers \n",
    "    \n",
    "    for n=1:n_its\n",
    "        grad_tot = zeros(14)\n",
    "        CVf, CVh = zeros(14,S), zeros(14,S) # required for control variates\n",
    "        for s=1:S\n",
    "            L = Low(param)\n",
    "            V = L*L'\n",
    "            # draw sample for z at given time point\n",
    "            z_s = rand(prod(MvNormal(param[1:4],V),mes_income))\n",
    "            # log_q to be differentiated\n",
    "            log_q(param) = logpdf(prod(mes_income,MvNormal(param[1:4],Low(param)*Low(param)')),z_s)\n",
    "            # calculate the gradient of log_q to be used in estimation of gradient of the free energy\n",
    "            grad_log_q = ForwardDiff.gradient(log_q,param)\n",
    "            # sample from q_r\n",
    "            r_s = rand(q_r)\n",
    "            # compute a noisy gradient\n",
    "            grad_message = grad_log_q.*(logpdf(MvNormal(param[1:4],V),z_s)-log_likelihood(obs,z_s,r_s))\n",
    "            CVf[:,s] = grad_message #for control variates\n",
    "            CVh[:,s] = grad_log_q #for control variates\n",
    "            grad_tot .+= grad_message\n",
    "        end\n",
    "        # gradient estimation with control variates\n",
    "        alfa = sum(cov.(collect(eachrow(CVf)), collect(eachrow(CVh))))/sum(var.(collect(eachrow(CVh))))\n",
    "        grad = (grad_tot - reshape(alfa*sum(CVh,dims=2),(14,)))./S\n",
    "        # Adam optimizer\n",
    "        G = G + diagm(0=>diag(grad*grad'))\n",
    "        step_size = η .* 1 ./ diag(sqrt.(G))\n",
    "        # update parameter with stochastic gradient descent\n",
    "        param = param .- step_size .* grad\n",
    "    end\n",
    "    # return the estimated SVMP message (proxy VMP message)\n",
    "    return MvNormal(param[1:4],Low(param)*Low(param)')\n",
    "end"
   ]
  },
  {
   "cell_type": "markdown",
   "metadata": {},
   "source": [
    "# Utility functions"
   ]
  },
  {
   "cell_type": "code",
   "execution_count": 11,
   "metadata": {},
   "outputs": [
    {
     "data": {
      "text/plain": [
       "predict_step (generic function with 1 method)"
      ]
     },
     "execution_count": 11,
     "metadata": {},
     "output_type": "execute_result"
    }
   ],
   "source": [
    "# prediction step in Kalman filter\n",
    "predict_step(p::MvNormal,A,Q) = MvNormal(A*mean(p),Matrix(Hermitian(A*cov(p)*A'+Q)))"
   ]
  },
  {
   "cell_type": "markdown",
   "metadata": {},
   "source": [
    "# Update z"
   ]
  },
  {
   "cell_type": "code",
   "execution_count": 12,
   "metadata": {},
   "outputs": [
    {
     "data": {
      "text/plain": [
       "filter (generic function with 1 method)"
      ]
     },
     "execution_count": 12,
     "metadata": {},
     "output_type": "execute_result"
    }
   ],
   "source": [
    "#Kalman filtering\n",
    "function filter(observation,p_z_init,A,q_W,B,q_r::MvNormal,T::Number,η::Number,n_its::Number,S::Number)\n",
    "    q_z = Array{MvNormal,1}(undef, T) # Array of filtered posterior marginals\n",
    "    \n",
    "    message_up = approx_message_z(observation[:,1],p_z_init,q_r,η,n_its,S) #SVMP\n",
    "    #update step\n",
    "    post = prod(p_z_init,message_up)\n",
    "    q_z[1] = post\n",
    "    \n",
    "    Q = inv(mean(q_W)) # transition noise covariance matrix\n",
    "    \n",
    "    for t=2:T\n",
    "        #predict step\n",
    "        message_forward = predict_step(post,A,Q)\n",
    "        #update step\n",
    "        message_up = approx_message_z(observation[:,t],message_forward,q_r,η,n_its,S)\n",
    "        post = prod(message_forward,message_up)\n",
    "        q_z[t] = post\n",
    "    end\n",
    "    return q_z\n",
    "end"
   ]
  },
  {
   "cell_type": "code",
   "execution_count": 13,
   "metadata": {},
   "outputs": [
    {
     "data": {
      "text/plain": [
       "smooth (generic function with 1 method)"
      ]
     },
     "execution_count": 13,
     "metadata": {},
     "output_type": "execute_result"
    }
   ],
   "source": [
    "# Kalman smoothing\n",
    "function smooth(observation,q_z_filter,A,q_W,T::Number)\n",
    "    q_z_marg = Array{MvNormal,1}(undef, T) # Array of smoothed posterior marginals\n",
    "    q_z_cond = Array{MvNormal,1}(undef, T) # Array of posterior conditionals\n",
    "    C_list = Array{Array{Float64,2},1}(undef,T-1) #Array of <transpose(z_{t})*z_{t+1}>\n",
    "\n",
    "    # initiate smoothing\n",
    "    q_z_marg[T] = q_z_filter[T]\n",
    "    q_z_cond[T] = MvNormal(mean(q_z_marg[T]),cov(q_z_marg[T]))\n",
    "    \n",
    "    Q = inv(mean(q_W)) # transition noise covariance matrix\n",
    "    \n",
    "    for t=T-1:-1:1\n",
    "        # update posterior marginals (See David Barber's Probabilistic Reasoning and Machine Learning for details)\n",
    "        P1 = cov(q_z_filter[t])\n",
    "        P21 = A*P1\n",
    "        P12 = P21'\n",
    "        P2 = P21*A' + Q\n",
    "        P2inv = inv(P2)\n",
    "        k = mean(q_z_filter[t]) - P12*P2inv*(A*mean(q_z_filter[t]) - mean(q_z_marg[t+1]))\n",
    "        K = Matrix(Hermitian(P12*P2inv*cov(q_z_marg[t+1])*P2inv'*P21 + P1-P12*P2inv*P21))\n",
    "        q_z_marg[t] = MvNormal(k,K)\n",
    "        C = P12*P2inv*cov(q_z_marg[t+1]) # Cov(z_{t},z_{t+1})\n",
    "        C_list[t] = C + mean(q_z_marg[t])*mean(q_z_marg[t+1])' # <transpose(z_{t})*z_{t+1}> = Cov(z_{t},z_{t+1}) + transpose(<z_{t+1}>)*<z_t>\n",
    "        \n",
    "        # q(z_{t}|z_{t+1}) necessary to compute free energy\n",
    "        # use q(z_{t},z_{t+1}) and conditioning rule in multivariate Gaussian\n",
    "        q_z_cond[t] = MvNormal(k,Matrix(Hermitian(K-C*inv(cov(q_z_marg[t+1]))*C')))\n",
    "    end\n",
    "    return q_z_marg, q_z_cond, C_list\n",
    "end"
   ]
  },
  {
   "cell_type": "markdown",
   "metadata": {},
   "source": [
    "# Update r"
   ]
  },
  {
   "cell_type": "code",
   "execution_count": 14,
   "metadata": {},
   "outputs": [
    {
     "data": {
      "text/plain": [
       "approx_message_r (generic function with 1 method)"
      ]
     },
     "execution_count": 14,
     "metadata": {},
     "output_type": "execute_result"
    }
   ],
   "source": [
    "# Lower diagonal Cholesky component of covariance function for r\n",
    "function Lowr(param)\n",
    "    return [param[4] 0 0; param[5] param[6] 0; param[7] param[8] param[9]]\n",
    "end\n",
    "\n",
    "# SVMP message towards r\n",
    "function approx_message_r(observation,p_r::MvNormal,q_z::Array{MvNormal},η::Number,n_its::Number,S::Number)\n",
    "    grad_past = zeros(9) #3 mean, 6 lower triangular of chlesky component for cov\n",
    "    G = zeros(9,9)\n",
    "    param = rand(9)\n",
    "    \n",
    "    for n=1:n_its\n",
    "        grad_tot = zeros(9)\n",
    "        CVf, CVh = zeros(9,S), zeros(9,S) # required for control variates\n",
    "        for s=1:S\n",
    "            L = Lowr(param)\n",
    "            V = L*L'\n",
    "            r_s = rand(prod(MvNormal(param[1:3],V),p_r))\n",
    "            log_q(param) = logpdf(prod(MvNormal(param[1:3],Lowr(param)*Lowr(param)'),p_r),r_s)\n",
    "            grad_log_q = ForwardDiff.gradient(log_q,param)\n",
    "            z_s = rand(q_z)\n",
    "            grad_message = logpdf(MvNormal(param[1:3],V),r_s)\n",
    "            # Note that r is branched to all likelihood nodes through an equality node\n",
    "            for t=1:T\n",
    "                z_s = rand(q_z[t])\n",
    "                grad_message -= log_likelihood(observation[:,t],z_s,r_s)\n",
    "            end\n",
    "            grad_message = grad_log_q.*grad_message\n",
    "            CVf[:,s] = grad_message #for control variates\n",
    "            CVh[:,s] = grad_log_q #for control variates\n",
    "            grad_tot .+= grad_message\n",
    "        end\n",
    "        # gradient estimation with control variates\n",
    "        alfa = sum(cov.(collect(eachrow(CVf)), collect(eachrow(CVh))))/sum(var.(collect(eachrow(CVh))))\n",
    "        grad = (grad_tot - reshape(alfa*sum(CVh,dims=2),(9,)))./S\n",
    "        # Adam optimizer\n",
    "        G = G + diagm(0=>diag(grad*grad'))\n",
    "        step_size = η .* 1 ./ diag(sqrt.(G))\n",
    "        # update parameter via SGD\n",
    "        param = param .- step_size .* grad\n",
    "    end\n",
    "    return MvNormal(param[1:3],Lowr(param)*Lowr(param)')\n",
    "end"
   ]
  },
  {
   "cell_type": "code",
   "execution_count": 15,
   "metadata": {},
   "outputs": [
    {
     "data": {
      "text/plain": [
       "update_r (generic function with 1 method)"
      ]
     },
     "execution_count": 15,
     "metadata": {},
     "output_type": "execute_result"
    }
   ],
   "source": [
    "# update q_r\n",
    "function update_r(observation, p_r, q_z, η::Number,n_its::Number,S::Number)\n",
    "    message = approx_message_r(observation,p_r,q_z,η,n_its,S)\n",
    "    return prod(p_r,message)\n",
    "end"
   ]
  },
  {
   "cell_type": "markdown",
   "metadata": {},
   "source": [
    "# Update W"
   ]
  },
  {
   "cell_type": "code",
   "execution_count": 16,
   "metadata": {},
   "outputs": [
    {
     "data": {
      "text/plain": [
       "update_W (generic function with 1 method)"
      ]
     },
     "execution_count": 16,
     "metadata": {},
     "output_type": "execute_result"
    }
   ],
   "source": [
    "# product of two Wishart distributions\n",
    "function prod(S1::Array{Float64,2}, ν1::Number, S2::Array{Float64,2}, ν2::Number)\n",
    "    d = size(S1)[1]\n",
    "    S3 = S1 * inv(S1+S2) * S2\n",
    "    ν3 = ν1 + ν2 - d - 1.0\n",
    "    return Matrix(Hermitian(S3)), ν3\n",
    "end\n",
    "\n",
    "# VMP message parameters from each transition node\n",
    "# Note that we directly send the parameters instead of parameterizing messages with Wishart\n",
    "# This is because some of the messages may refer to improper distributions\n",
    "# Nevertheless, after product operation, the resulting distribution is a proper one\n",
    "function message2W(A,q_zold,q_znew,Coldnew)\n",
    "    n = size(Coldnew)[1] + 2\n",
    "    newnew = cov(q_znew) + mean(q_znew)*mean(q_znew)'\n",
    "    oldold = cov(q_zold) + mean(q_zold)*mean(q_zold)'\n",
    "    S = inv(newnew - A*Coldnew - Coldnew'*A' + A*oldold*A')\n",
    "    return S, n\n",
    "end\n",
    "\n",
    "# update q_W\n",
    "function update_W(A::Array{Float64,2}, p_W::Wishart, q_z_marg::Array{MvNormal,1}, C_list::Array, T::Number)\n",
    "    message_S, message_n = message2W(A,q_z_marg[1],q_z_marg[2],C_list[1])\n",
    "    post_S, post_n = message_S, message_n\n",
    "    for t=2:T-1\n",
    "        message_S, message_n = message2W(A,q_z_marg[t],q_z_marg[t+1],C_list[t])\n",
    "        post_S, post_n = prod(post_S, post_n, message_S, message_n)\n",
    "    end\n",
    "    post_S, post_n = prod(p_W.S.mat,p_W.df,post_S,post_n)\n",
    "    return Wishart(post_n, Matrix(Hermitian(post_S)))\n",
    "end"
   ]
  },
  {
   "cell_type": "markdown",
   "metadata": {},
   "source": [
    "## Calculate Free Energy"
   ]
  },
  {
   "cell_type": "code",
   "execution_count": 17,
   "metadata": {},
   "outputs": [
    {
     "data": {
      "text/plain": [
       "freeEnergy (generic function with 1 method)"
      ]
     },
     "execution_count": 17,
     "metadata": {},
     "output_type": "execute_result"
    }
   ],
   "source": [
    "# Free energy estimation by Rao-Blackwellization\n",
    "function freeEnergy(observations,p_W,p_r,p_z_init,q_W,q_r,q_z,q_z_cond,C_list,S::Number)\n",
    "    E = -entropy(q_W) -entropy(q_r) # closed-form\n",
    "    for q in q_z_cond\n",
    "        E -= entropy(q) # closed-form\n",
    "    end\n",
    "    E += cross_entropy(q_W,p_W) + cross_entropy(q_r,p_r) + cross_entropy(q_z[1],p_z_init) # closed-form\n",
    "    # closed-form\n",
    "    dueTrans = -size(A)[1]/2*log(2*pi) + 0.5*logdetmean(q_W)\n",
    "    for t=1:T-1\n",
    "        dueTrans -= 0.5*tr(mean(q_W)*(cov(q_z[t+1])+mean(q_z[t+1])*mean(q_z[t+1])'))\n",
    "        dueTrans += 0.5*tr(mean(q_W)*A*C_list[t] + A'*mean(q_W)*C_list[t]')\n",
    "        dueTrans -= 0.5*tr(A'*mean(q_W)*A*(cov(q_z[t])+mean(q_z[t])*mean(q_z[t])'))\n",
    "    end\n",
    "    E -= dueTrans\n",
    "    # not available in closed-form. Monte Carlo approximation\n",
    "    for t=1:T\n",
    "        dueObs = 0\n",
    "        for s=1:S\n",
    "            dueObs += log_likelihood(observation[:,t],rand(q_z[t]),rand(q_r))\n",
    "        end\n",
    "        E -= dueObs/S\n",
    "        #E -= sum(logpdf.(MvNormal.(rand(q_z[t],S),rand(q_r,S))))/S\n",
    "    end\n",
    "    return E\n",
    "end"
   ]
  },
  {
   "cell_type": "markdown",
   "metadata": {},
   "source": [
    "# Run multiple iterations"
   ]
  },
  {
   "cell_type": "code",
   "execution_count": 18,
   "metadata": {},
   "outputs": [
    {
     "data": {
      "text/plain": [
       "(MvNormal[FullNormal(\n",
       "dim: 4\n",
       "μ: [0.743538, 0.809379, 0.431023, 0.554487]\n",
       "Σ: [0.0524234 -0.0487816 0.00280126 0.0691661; -0.0487816 0.380514 0.0240436 -0.116601; 0.00280126 0.0240436 0.141019 -0.0298798; 0.0691661 -0.116601 -0.0298798 0.128804]\n",
       ")\n",
       ", FullNormal(\n",
       "dim: 4\n",
       "μ: [1.34822, 1.1836, -0.107903, -0.185203]\n",
       "Σ: [0.126306 0.0482887 0.00211449 0.0210675; 0.0482887 0.0781614 0.0028789 0.0724598; 0.00211449 0.0028789 0.123246 -0.0101965; 0.0210675 0.0724598 -0.0101965 0.0757901]\n",
       ")\n",
       ", FullNormal(\n",
       "dim: 4\n",
       "μ: [0.713367, 0.782062, 0.0581573, -0.324339]\n",
       "Σ: [0.20809 0.0823476 -0.0182097 -0.0185206; 0.0823476 0.257269 -0.0304533 -0.0141299; -0.0182097 -0.0304533 0.107124 0.00304809; -0.0185206 -0.0141299 0.00304809 0.103833]\n",
       ")\n",
       ", FullNormal(\n",
       "dim: 4\n",
       "μ: [0.52554, 0.130665, -0.0268939, -0.206074]\n",
       "Σ: [0.172111 0.0197134 -0.0400491 -0.00969772; 0.0197134 0.223488 -0.0149485 -0.0595601; -0.0400491 -0.0149485 0.111935 0.00406564; -0.00969772 -0.0595601 0.00406564 0.119715]\n",
       ")\n",
       ", FullNormal(\n",
       "dim: 4\n",
       "μ: [-0.00887788, -0.368934, 0.460449, -0.0085736]\n",
       "Σ: [0.000379985 -0.0023966 0.000967051 0.00142163; -0.0023966 0.0153297 -0.00493119 -0.00915293; 0.000967051 -0.00493119 0.107897 0.00361829; 0.00142163 -0.00915293 0.00361829 0.138933]\n",
       ")\n",
       ", FullNormal(\n",
       "dim: 4\n",
       "μ: [1.64591, -0.130099, -0.266286, -0.0105502]\n",
       "Σ: [0.000829166 -0.00277714 -0.00763616 -0.00227872; -0.00277714 0.209072 0.012228 -0.00837095; -0.00763616 0.012228 0.125327 -0.000587109; -0.00227872 -0.00837095 -0.000587109 0.133645]\n",
       ")\n",
       ", FullNormal(\n",
       "dim: 4\n",
       "μ: [0.274497, -0.0497713, -0.0544952, -0.156319]\n",
       "Σ: [0.115256 0.0526028 0.00738418 -0.016296; 0.0526028 0.262209 -0.00239191 -0.0188385; 0.00738418 -0.00239191 0.118393 0.010741; -0.016296 -0.0188385 0.010741 0.132231]\n",
       ")\n",
       ", FullNormal(\n",
       "dim: 4\n",
       "μ: [0.00781899, -0.269542, 0.049927, -0.0777402]\n",
       "Σ: [0.194956 0.102473 -0.026085 -0.0327927; 0.102473 0.235144 -0.0240332 -0.0132024; -0.026085 -0.0240332 0.122868 -0.00154991; -0.0327927 -0.0132024 -0.00154991 0.144699]\n",
       ")\n",
       ", FullNormal(\n",
       "dim: 4\n",
       "μ: [-0.146413, -0.393956, 0.0491278, -0.00964007]\n",
       "Σ: [0.25657 -0.0267066 -0.0399964 -0.00436967; -0.0267066 0.304125 -0.0100981 -0.0132461; -0.0399964 -0.0100981 0.127888 -0.0031724; -0.00436967 -0.0132461 -0.0031724 0.139887]\n",
       ")\n",
       ", FullNormal(\n",
       "dim: 4\n",
       "μ: [-0.319159, -0.41311, 0.120296, 0.0560239]\n",
       "Σ: [0.206484 -0.10112 -0.0311332 0.0342144; -0.10112 0.330111 0.03055 -0.0124518; -0.0311332 0.03055 0.123453 -0.00597528; 0.0342144 -0.0124518 -0.00597528 0.135229]\n",
       ")\n",
       ", FullNormal(\n",
       "dim: 4\n",
       "μ: [-0.341524, -0.347753, 0.253338, 0.0977183]\n",
       "Σ: [0.194368 -0.0141059 -0.0587277 -0.00128697; -0.0141059 0.367183 0.0431965 -0.045215; -0.0587277 0.0431965 0.125475 0.00261635; -0.00128697 -0.045215 0.00261635 0.137198]\n",
       ")\n",
       ", FullNormal(\n",
       "dim: 4\n",
       "μ: [-0.238197, -0.262528, 0.583151, 0.0471432]\n",
       "Σ: [0.000159915 -0.00464108 0.000128875 0.000905264; -0.00464108 0.296952 0.118739 -0.0480958; 0.000128875 0.118739 0.0935112 -0.0193361; 0.000905264 -0.0480958 -0.0193361 0.137304]\n",
       ")\n",
       ", FullNormal(\n",
       "dim: 4\n",
       "μ: [0.344905, -0.186226, 0.739847, 0.0733294]\n",
       "Σ: [0.159745 0.0440725 -0.00890394 -0.022443; 0.0440725 0.335432 0.0119497 -0.0771891; -0.00890394 0.0119497 0.131556 -0.00861041; -0.022443 -0.0771891 -0.00861041 0.143743]\n",
       ")\n",
       ", FullNormal(\n",
       "dim: 4\n",
       "μ: [1.24479, -0.112992, 0.630434, 0.0929989]\n",
       "Σ: [0.171777 -0.0364727 0.0294744 0.0165768; -0.0364727 0.220028 -0.003907 -0.0719957; 0.0294744 -0.003907 0.187666 -0.0349142; 0.0165768 -0.0719957 -0.0349142 0.164846]\n",
       ")\n",
       ", FullNormal(\n",
       "dim: 4\n",
       "μ: [1.78122, -0.0348355, 0.6779, 0.125813]\n",
       "Σ: [0.379152 -0.0582615 0.0888059 -0.00190776; -0.0582615 0.0244736 -0.079133 0.00129725; 0.0888059 -0.079133 0.325169 -0.0563932; -0.00190776 0.00129725 -0.0563932 0.376924]\n",
       ")\n",
       "], MvNormal[FullNormal(\n",
       "dim: 4\n",
       "μ: [0.743538, 0.809379, 0.431023, 0.554487]\n",
       "Σ: [0.0433147 -0.057288 -0.00263508 0.0577207; -0.057288 0.366523 0.0160191 -0.126915; -0.00263508 0.0160191 0.101347 -0.0265324; 0.0577207 -0.126915 -0.0265324 0.111509]\n",
       ")\n",
       ", FullNormal(\n",
       "dim: 4\n",
       "μ: [1.34822, 1.1836, -0.107903, -0.185203]\n",
       "Σ: [0.0946143 0.0237534 -0.0142112 0.00385258; 0.0237534 0.0426751 -0.0019812 0.0402467; -0.0142112 -0.0019812 0.0926555 -0.0082421; 0.00385258 0.0402467 -0.0082421 0.0446132]\n",
       ")\n",
       ", FullNormal(\n",
       "dim: 4\n",
       "μ: [0.713367, 0.782062, 0.0581573, -0.324339]\n",
       "Σ: [0.151703 0.0450601 -0.0264087 -0.0164137; 0.0450601 0.1695 -0.0210174 -0.0276652; -0.0264087 -0.0210174 0.0884498 0.00541071; -0.0164137 -0.0276652 0.00541071 0.0865441]\n",
       ")\n",
       ", FullNormal(\n",
       "dim: 4\n",
       "μ: [0.52554, 0.130665, -0.0268939, -0.206074]\n",
       "Σ: [0.169986 0.0180429 -0.0343748 -0.00783292; 0.0180429 0.209189 -0.0105478 -0.0487768; -0.0343748 -0.0105478 0.095692 0.00280583; -0.00783292 -0.0487768 0.00280583 0.0988212]\n",
       ")\n",
       ", FullNormal(\n",
       "dim: 4\n",
       "μ: [-0.00887788, -0.368934, 0.460449, -0.0085736]\n",
       "Σ: [0.000371629 -0.00234447 0.000838642 0.00140385; -0.00234447 0.0150027 -0.00428595 -0.00903065; 0.000838642 -0.00428595 0.0927113 0.00245687; 0.00140385 -0.00903065 0.00245687 0.0960661]\n",
       ")\n",
       ", FullNormal(\n",
       "dim: 4\n",
       "μ: [1.64591, -0.130099, -0.266286, -0.0105502]\n",
       "Σ: [0.000673883 -0.00117327 -0.00559098 -0.0012713; -0.00117327 0.147716 0.00280311 -0.0314033; -0.00559098 0.00280311 0.0929312 -0.00283383; -0.0012713 -0.0314033 -0.00283383 0.0985001]\n",
       ")\n",
       ", FullNormal(\n",
       "dim: 4\n",
       "μ: [0.274497, -0.0497713, -0.0544952, -0.156319]\n",
       "Σ: [0.0898517 0.0230776 -0.00869009 -0.0159787; 0.0230776 0.176988 -0.0138488 -0.037779; -0.00869009 -0.0138488 0.0896852 0.00862562; -0.0159787 -0.037779 0.00862562 0.098886]\n",
       ")\n",
       ", FullNormal(\n",
       "dim: 4\n",
       "μ: [0.00781899, -0.269542, 0.049927, -0.0777402]\n",
       "Σ: [0.138634 0.0615545 -0.0359574 -0.0256867; 0.0615545 0.155344 -0.0176617 -0.0361386; -0.0359574 -0.0176617 0.0954425 0.00649416; -0.0256867 -0.0361386 0.00649416 0.101139]\n",
       ")\n",
       ", FullNormal(\n",
       "dim: 4\n",
       "μ: [-0.146413, -0.393956, 0.0491278, -0.00964007]\n",
       "Σ: [0.185908 0.00568124 -0.0490207 0.000213806; 0.00568124 0.189211 -0.00179632 -0.0447564; -0.0490207 -0.00179632 0.102755 -0.0014382; 0.000213806 -0.0447564 -0.0014382 0.102177]\n",
       ")\n",
       ", FullNormal(\n",
       "dim: 4\n",
       "μ: [-0.319159, -0.41311, 0.120296, 0.0560239]\n",
       "Σ: [0.148654 -0.0517523 -0.0352925 0.0291947; -0.0517523 0.185227 0.0165536 -0.0413859; -0.0352925 0.0165536 0.10087 -0.0100998; 0.0291947 -0.0413859 -0.0100998 0.100724]\n",
       ")\n",
       ", FullNormal(\n",
       "dim: 4\n",
       "μ: [-0.341524, -0.347753, 0.253338, 0.0977183]\n",
       "Σ: [0.191088 0.00215771 -0.0509587 0.00119489; 0.00215771 0.218921 0.0055728 -0.057988; -0.0509587 0.0055728 0.107057 -0.00313045; 0.00119489 -0.057988 -0.00313045 0.108215]\n",
       ")\n",
       ", FullNormal(\n",
       "dim: 4\n",
       "μ: [-0.238197, -0.262528, 0.583151, 0.0471432]\n",
       "Σ: [0.00013132 -0.00308559 0.000639851 0.00106593; -0.00308559 0.170529 0.0591269 -0.0518349; 0.000639851 0.0591269 0.0601464 -0.0176004; 0.00106593 -0.0518349 -0.0176004 0.10749]\n",
       ")\n",
       ", FullNormal(\n",
       "dim: 4\n",
       "μ: [0.344905, -0.186226, 0.739847, 0.0733294]\n",
       "Σ: [0.130693 0.031531 -0.0248554 -0.0165372; 0.031531 0.22042 0.00443168 -0.066333; -0.0248554 0.00443168 0.0902003 0.000381025; -0.0165372 -0.066333 0.000381025 0.113621]\n",
       ")\n",
       ", FullNormal(\n",
       "dim: 4\n",
       "μ: [1.24479, -0.112992, 0.630434, 0.0929989]\n",
       "Σ: [0.114796 -0.019076 -0.016976 0.0112341; -0.019076 0.199847 0.0134538 -0.0461129; -0.016976 0.0134538 0.0913798 -0.00832297; 0.0112341 -0.0461129 -0.00832297 0.100222]\n",
       ")\n",
       ", FullNormal(\n",
       "dim: 4\n",
       "μ: [1.78122, -0.0348355, 0.6779, 0.125813]\n",
       "Σ: [0.379152 -0.0582615 0.0888059 -0.00190776; -0.0582615 0.0244736 -0.079133 0.00129725; 0.0888059 -0.079133 0.325169 -0.0563932; -0.00190776 0.00129725 -0.0563932 0.376924]\n",
       ")\n",
       "], Array{Float64,2}[[1.02793 0.904747 -0.0835346 -0.116546; 1.10609 0.988325 -0.0718511 -0.123058; 0.627577 0.519418 0.00524976 -0.0867324; 0.769524 0.689515 -0.0773728 -0.0696423], [1.03854 1.1108 0.0631471 -0.443371; 0.886943 1.01612 0.0567901 -0.373498; -0.0211866 -0.0798898 0.0288581 0.0274703; -0.110524 -0.060476 -0.023776 0.0740262], [0.468287 0.13419 -0.053061 -0.166981; 0.443181 0.238725 -0.0432253 -0.209475; 0.0576658 -0.00803814 0.029121 -0.00664378; -0.177609 -0.0115543 0.0107948 0.0947679], [-0.00473494 -0.193599 0.227358 -0.00895893; -0.00300458 -0.0364486 0.0517712 -0.0342101; 0.000792288 0.00686931 0.0293467 0.00380696; 0.00191491 0.0754711 -0.0932517 0.0548647], [-0.0146361 0.000348937 0.0026982 0.00086263; -0.607108 0.0531586 0.0966094 -0.00106474; 0.755334 -0.0580202 -0.079087 -0.00455361; -0.0160161 0.0707628 0.00742824 0.0484903], [0.448933 -0.0853684 -0.0925185 -0.257695; -0.00835707 0.13115 0.00600334 -0.00502339; -0.0299058 0.030923 0.0609792 0.0384286; 0.00282506 0.0626396 0.00270164 0.0488379], [0.0713504 -0.0323646 0.000382062 -0.0415549; 0.070269 0.151461 -0.0234025 -0.0264734; 0.0501056 0.0338982 0.0333548 -0.00167542; 0.00422002 0.090545 -0.00928552 0.0670712], [0.1066 0.0323977 -0.0355596 -0.0176872; 0.0752338 0.249141 -0.0336555 -0.024482; 0.0395483 -0.0438082 0.0421284 0.00149337; -0.0180653 0.106129 -0.00133552 0.0541509], [0.163539 0.00689959 -0.0581517 0.0115252; 0.0646125 0.35393 -0.0300401 -0.0529007; 0.0170165 -0.0336722 0.0495988 0.00703345; -0.00699712 0.075033 0.00285724 0.0517357], [0.206549 0.0600828 -0.12879 -0.0120389; 0.101929 0.367255 -0.0636589 -0.0887412; -0.0141071 -0.0167992 0.0667066 0.00576326; -0.00578177 0.0466292 0.0159451 0.0498151], [0.0813553 0.0666073 -0.216649 -0.0116405; 0.079644 0.296112 -0.119783 -0.0796061; -0.0603098 -0.0131991 0.189209 0.00167688; -0.0238196 0.0117371 0.0712985 0.0546125], [-0.082137 0.0414861 -0.176053 -0.0163216; -0.0312658 0.236854 -0.157653 -0.0927695; 0.246731 -0.0338557 0.463519 0.0122923; 0.00648345 0.0289505 0.025164 0.0501676], [0.495842 -0.0360653 0.213335 0.0273425; -0.233458 0.170442 -0.102981 -0.103667; 0.975811 -0.0904138 0.541711 0.059406; 0.0808586 0.00296293 0.0280037 0.0669968], [2.36131 -0.0614955 0.856459 0.176591; -0.240486 0.0157983 -0.0993555 -0.0859344; 1.26711 -0.0677666 0.57291 0.0456147; 0.153735 0.00453341 0.013518 0.164941]])"
      ]
     },
     "execution_count": 18,
     "metadata": {},
     "output_type": "execute_result"
    }
   ],
   "source": [
    "# initialization and test\n",
    "q_z_filter = filter(observation,p_z_init,A,q_W,B,q_r,T,0.8,1,100)\n",
    "q_z_marg, q_z_cond, C_list = smooth(observation,q_z_filter,A,q_W,T)"
   ]
  },
  {
   "cell_type": "code",
   "execution_count": 19,
   "metadata": {},
   "outputs": [
    {
     "data": {
      "text/plain": [
       "140.19647458923976"
      ]
     },
     "execution_count": 19,
     "metadata": {},
     "output_type": "execute_result"
    }
   ],
   "source": [
    "# test\n",
    "freeEnergy(observation,p_W,p_r,p_z_init,q_W,q_r,q_z_marg,q_z_cond,C_list,500)"
   ]
  },
  {
   "cell_type": "code",
   "execution_count": 20,
   "metadata": {},
   "outputs": [
    {
     "name": "stdout",
     "output_type": "stream",
     "text": [
      "FE = 45.879289593191345\n",
      "FE = 41.557601292508025\n",
      "FE = 38.68211995182778\n",
      "FE = 37.231864744564575\n",
      "FE = 36.30721386955681\n",
      "FE = 32.91888230686826\n",
      "FE = 32.658455354252524\n",
      "FE = 32.69193452142196\n",
      "FE = 30.369674366024974\n",
      "FE = 30.397734126747515\n",
      "FE = 30.266519201756363\n",
      "FE = 29.274946876560477\n",
      "FE = 28.911498548069293\n",
      "FE = 29.015719586445975\n",
      "FE = 28.119984133224964\n"
     ]
    }
   ],
   "source": [
    "# iterative update of recognition factors\n",
    "total_time = 0.0\n",
    "SVMP_FE_x, SVMP_FE_y = [], []\n",
    "\n",
    "for iteration=1:5\n",
    "    global q_r, q_W, q_z_filter, q_z_marg, q_z_cond, C_list\n",
    "    etime1 = @elapsed q_z_filter = filter(observation,p_z_init,A,q_W,B,q_r,T,0.8,5000,100)\n",
    "    etime2 = @elapsed q_z_marg, q_z_cond, C_list = smooth(observation,q_z_filter,A,q_W,T)\n",
    "    FE = freeEnergy(observation,p_W,p_r,p_z_init,q_W,q_r,q_z_marg,q_z_cond,C_list,500)\n",
    "    @show FE\n",
    "    total_time += etime1 + etime2\n",
    "    append!(SVMP_FE_x, total_time)\n",
    "    append!(SVMP_FE_y, FE)\n",
    "    \n",
    "    etime = @elapsed q_r = update_r(observation, p_r, q_z_marg, 0.8,5000,100)\n",
    "    FE = freeEnergy(observation,p_W,p_r,p_z_init,q_W,q_r,q_z_marg,q_z_cond,C_list,500)\n",
    "    @show FE\n",
    "    total_time += etime\n",
    "    append!(SVMP_FE_x, total_time)\n",
    "    append!(SVMP_FE_y, FE)\n",
    "    \n",
    "    etime = @elapsed q_W = update_W(A, p_W, q_z_marg, C_list, T)\n",
    "    FE = freeEnergy(observation,p_W,p_r,p_z_init,q_W,q_r,q_z_marg,q_z_cond,C_list,500)\n",
    "    @show FE\n",
    "    total_time += etime\n",
    "    append!(SVMP_FE_x, total_time)\n",
    "    append!(SVMP_FE_y, FE)\n",
    "end"
   ]
  },
  {
   "cell_type": "code",
   "execution_count": 21,
   "metadata": {},
   "outputs": [
    {
     "data": {
      "text/plain": [
       "FullNormal(\n",
       "dim: 3\n",
       "μ: [-1.06199, -0.967912, -1.04716]\n",
       "Σ: [0.0934805 0.0289172 0.0172139; 0.0289172 0.0991763 0.00635533; 0.0172139 0.00635533 0.10655]\n",
       ")\n"
      ]
     },
     "execution_count": 21,
     "metadata": {},
     "output_type": "execute_result"
    }
   ],
   "source": [
    "q_r"
   ]
  },
  {
   "cell_type": "code",
   "execution_count": 22,
   "metadata": {},
   "outputs": [
    {
     "data": {
      "text/plain": [
       "Wishart{Float64,PDMats.PDMat{Float64,Array{Float64,2}},Int64}(\n",
       "df: 18.0\n",
       "S: [0.284931 0.0078958 -0.03807 -0.0219351; 0.0078958 0.281636 0.0145188 -0.0261311; -0.03807 0.0145188 0.270735 -0.0134721; -0.0219351 -0.0261311 -0.0134721 0.309193]\n",
       ")\n"
      ]
     },
     "execution_count": 22,
     "metadata": {},
     "output_type": "execute_result"
    }
   ],
   "source": [
    "q_W"
   ]
  },
  {
   "cell_type": "code",
   "execution_count": 23,
   "metadata": {},
   "outputs": [
    {
     "data": {
      "image/svg+xml": [
       "<?xml version=\"1.0\" encoding=\"utf-8\"?>\n",
       "<svg xmlns=\"http://www.w3.org/2000/svg\" xmlns:xlink=\"http://www.w3.org/1999/xlink\" width=\"600\" height=\"400\" viewBox=\"0 0 2400 1600\">\n",
       "<defs>\n",
       "  <clipPath id=\"clip6500\">\n",
       "    <rect x=\"0\" y=\"0\" width=\"2400\" height=\"1600\"/>\n",
       "  </clipPath>\n",
       "</defs>\n",
       "<path clip-path=\"url(#clip6500)\" d=\"\n",
       "M0 1600 L2400 1600 L2400 0 L0 0  Z\n",
       "  \" fill=\"#ffffff\" fill-rule=\"evenodd\" fill-opacity=\"1\"/>\n",
       "<defs>\n",
       "  <clipPath id=\"clip6501\">\n",
       "    <rect x=\"480\" y=\"0\" width=\"1681\" height=\"1600\"/>\n",
       "  </clipPath>\n",
       "</defs>\n",
       "<path clip-path=\"url(#clip6500)\" d=\"\n",
       "M140.517 1487.47 L2352.76 1487.47 L2352.76 47.2441 L140.517 47.2441  Z\n",
       "  \" fill=\"#ffffff\" fill-rule=\"evenodd\" fill-opacity=\"1\"/>\n",
       "<defs>\n",
       "  <clipPath id=\"clip6502\">\n",
       "    <rect x=\"140\" y=\"47\" width=\"2213\" height=\"1441\"/>\n",
       "  </clipPath>\n",
       "</defs>\n",
       "<polyline clip-path=\"url(#clip6502)\" style=\"stroke:#000000; stroke-width:2; stroke-opacity:0.1; fill:none\" points=\"\n",
       "  476.616,1487.47 476.616,47.2441 \n",
       "  \"/>\n",
       "<polyline clip-path=\"url(#clip6502)\" style=\"stroke:#000000; stroke-width:2; stroke-opacity:0.1; fill:none\" points=\"\n",
       "  994.767,1487.47 994.767,47.2441 \n",
       "  \"/>\n",
       "<polyline clip-path=\"url(#clip6502)\" style=\"stroke:#000000; stroke-width:2; stroke-opacity:0.1; fill:none\" points=\"\n",
       "  1512.92,1487.47 1512.92,47.2441 \n",
       "  \"/>\n",
       "<polyline clip-path=\"url(#clip6502)\" style=\"stroke:#000000; stroke-width:2; stroke-opacity:0.1; fill:none\" points=\"\n",
       "  2031.07,1487.47 2031.07,47.2441 \n",
       "  \"/>\n",
       "<polyline clip-path=\"url(#clip6502)\" style=\"stroke:#000000; stroke-width:2; stroke-opacity:0.1; fill:none\" points=\"\n",
       "  140.517,1267.32 2352.76,1267.32 \n",
       "  \"/>\n",
       "<polyline clip-path=\"url(#clip6502)\" style=\"stroke:#000000; stroke-width:2; stroke-opacity:0.1; fill:none\" points=\"\n",
       "  140.517,874.214 2352.76,874.214 \n",
       "  \"/>\n",
       "<polyline clip-path=\"url(#clip6502)\" style=\"stroke:#000000; stroke-width:2; stroke-opacity:0.1; fill:none\" points=\"\n",
       "  140.517,481.11 2352.76,481.11 \n",
       "  \"/>\n",
       "<polyline clip-path=\"url(#clip6502)\" style=\"stroke:#000000; stroke-width:2; stroke-opacity:0.1; fill:none\" points=\"\n",
       "  140.517,88.0053 2352.76,88.0053 \n",
       "  \"/>\n",
       "<polyline clip-path=\"url(#clip6500)\" style=\"stroke:#000000; stroke-width:4; stroke-opacity:1; fill:none\" points=\"\n",
       "  140.517,1487.47 2352.76,1487.47 \n",
       "  \"/>\n",
       "<polyline clip-path=\"url(#clip6500)\" style=\"stroke:#000000; stroke-width:4; stroke-opacity:1; fill:none\" points=\"\n",
       "  140.517,1487.47 140.517,47.2441 \n",
       "  \"/>\n",
       "<polyline clip-path=\"url(#clip6500)\" style=\"stroke:#000000; stroke-width:4; stroke-opacity:1; fill:none\" points=\"\n",
       "  476.616,1487.47 476.616,1470.19 \n",
       "  \"/>\n",
       "<polyline clip-path=\"url(#clip6500)\" style=\"stroke:#000000; stroke-width:4; stroke-opacity:1; fill:none\" points=\"\n",
       "  994.767,1487.47 994.767,1470.19 \n",
       "  \"/>\n",
       "<polyline clip-path=\"url(#clip6500)\" style=\"stroke:#000000; stroke-width:4; stroke-opacity:1; fill:none\" points=\"\n",
       "  1512.92,1487.47 1512.92,1470.19 \n",
       "  \"/>\n",
       "<polyline clip-path=\"url(#clip6500)\" style=\"stroke:#000000; stroke-width:4; stroke-opacity:1; fill:none\" points=\"\n",
       "  2031.07,1487.47 2031.07,1470.19 \n",
       "  \"/>\n",
       "<polyline clip-path=\"url(#clip6500)\" style=\"stroke:#000000; stroke-width:4; stroke-opacity:1; fill:none\" points=\"\n",
       "  140.517,1267.32 167.064,1267.32 \n",
       "  \"/>\n",
       "<polyline clip-path=\"url(#clip6500)\" style=\"stroke:#000000; stroke-width:4; stroke-opacity:1; fill:none\" points=\"\n",
       "  140.517,874.214 167.064,874.214 \n",
       "  \"/>\n",
       "<polyline clip-path=\"url(#clip6500)\" style=\"stroke:#000000; stroke-width:4; stroke-opacity:1; fill:none\" points=\"\n",
       "  140.517,481.11 167.064,481.11 \n",
       "  \"/>\n",
       "<polyline clip-path=\"url(#clip6500)\" style=\"stroke:#000000; stroke-width:4; stroke-opacity:1; fill:none\" points=\"\n",
       "  140.517,88.0053 167.064,88.0053 \n",
       "  \"/>\n",
       "<g clip-path=\"url(#clip6500)\">\n",
       "<text style=\"fill:#000000; fill-opacity:1; font-family:Arial,Helvetica Neue,Helvetica,sans-serif; font-size:48px; text-anchor:middle;\" transform=\"rotate(0, 476.616, 1541.47)\" x=\"476.616\" y=\"1541.47\">-2</text>\n",
       "</g>\n",
       "<g clip-path=\"url(#clip6500)\">\n",
       "<text style=\"fill:#000000; fill-opacity:1; font-family:Arial,Helvetica Neue,Helvetica,sans-serif; font-size:48px; text-anchor:middle;\" transform=\"rotate(0, 994.767, 1541.47)\" x=\"994.767\" y=\"1541.47\">0</text>\n",
       "</g>\n",
       "<g clip-path=\"url(#clip6500)\">\n",
       "<text style=\"fill:#000000; fill-opacity:1; font-family:Arial,Helvetica Neue,Helvetica,sans-serif; font-size:48px; text-anchor:middle;\" transform=\"rotate(0, 1512.92, 1541.47)\" x=\"1512.92\" y=\"1541.47\">2</text>\n",
       "</g>\n",
       "<g clip-path=\"url(#clip6500)\">\n",
       "<text style=\"fill:#000000; fill-opacity:1; font-family:Arial,Helvetica Neue,Helvetica,sans-serif; font-size:48px; text-anchor:middle;\" transform=\"rotate(0, 2031.07, 1541.47)\" x=\"2031.07\" y=\"1541.47\">4</text>\n",
       "</g>\n",
       "<g clip-path=\"url(#clip6500)\">\n",
       "<text style=\"fill:#000000; fill-opacity:1; font-family:Arial,Helvetica Neue,Helvetica,sans-serif; font-size:48px; text-anchor:end;\" transform=\"rotate(0, 116.517, 1284.82)\" x=\"116.517\" y=\"1284.82\">0</text>\n",
       "</g>\n",
       "<g clip-path=\"url(#clip6500)\">\n",
       "<text style=\"fill:#000000; fill-opacity:1; font-family:Arial,Helvetica Neue,Helvetica,sans-serif; font-size:48px; text-anchor:end;\" transform=\"rotate(0, 116.517, 891.714)\" x=\"116.517\" y=\"891.714\">5</text>\n",
       "</g>\n",
       "<g clip-path=\"url(#clip6500)\">\n",
       "<text style=\"fill:#000000; fill-opacity:1; font-family:Arial,Helvetica Neue,Helvetica,sans-serif; font-size:48px; text-anchor:end;\" transform=\"rotate(0, 116.517, 498.61)\" x=\"116.517\" y=\"498.61\">10</text>\n",
       "</g>\n",
       "<g clip-path=\"url(#clip6500)\">\n",
       "<text style=\"fill:#000000; fill-opacity:1; font-family:Arial,Helvetica Neue,Helvetica,sans-serif; font-size:48px; text-anchor:end;\" transform=\"rotate(0, 116.517, 105.505)\" x=\"116.517\" y=\"105.505\">15</text>\n",
       "</g>\n",
       "<polyline clip-path=\"url(#clip6502)\" style=\"stroke:#8b0000; stroke-width:4; stroke-opacity:1; fill:none\" points=\"\n",
       "  1771.99,1031.46 1461.1,1007.87 1119.12,1017.3 789.579,1055.99 511.021,1116.93 312.797,1191.05 212.267,1268.39 213.68,1339.41 308.71,1396.11 478.465,1432.81 \n",
       "  696.595,1446.71 933.056,1437.98 1158,1409.47 1345.37,1366.18 1475.67,1314.49 \n",
       "  \"/>\n",
       "<circle clip-path=\"url(#clip6502)\" cx=\"1771.99\" cy=\"1031.46\" r=\"14\" fill=\"#8b0000\" fill-rule=\"evenodd\" fill-opacity=\"1\" stroke=\"#000000\" stroke-opacity=\"1\" stroke-width=\"3.2\"/>\n",
       "<circle clip-path=\"url(#clip6502)\" cx=\"1461.1\" cy=\"1007.87\" r=\"14\" fill=\"#8b0000\" fill-rule=\"evenodd\" fill-opacity=\"1\" stroke=\"#000000\" stroke-opacity=\"1\" stroke-width=\"3.2\"/>\n",
       "<circle clip-path=\"url(#clip6502)\" cx=\"1119.12\" cy=\"1017.3\" r=\"14\" fill=\"#8b0000\" fill-rule=\"evenodd\" fill-opacity=\"1\" stroke=\"#000000\" stroke-opacity=\"1\" stroke-width=\"3.2\"/>\n",
       "<circle clip-path=\"url(#clip6502)\" cx=\"789.579\" cy=\"1055.99\" r=\"14\" fill=\"#8b0000\" fill-rule=\"evenodd\" fill-opacity=\"1\" stroke=\"#000000\" stroke-opacity=\"1\" stroke-width=\"3.2\"/>\n",
       "<circle clip-path=\"url(#clip6502)\" cx=\"511.021\" cy=\"1116.93\" r=\"14\" fill=\"#8b0000\" fill-rule=\"evenodd\" fill-opacity=\"1\" stroke=\"#000000\" stroke-opacity=\"1\" stroke-width=\"3.2\"/>\n",
       "<circle clip-path=\"url(#clip6502)\" cx=\"312.797\" cy=\"1191.05\" r=\"14\" fill=\"#8b0000\" fill-rule=\"evenodd\" fill-opacity=\"1\" stroke=\"#000000\" stroke-opacity=\"1\" stroke-width=\"3.2\"/>\n",
       "<circle clip-path=\"url(#clip6502)\" cx=\"212.267\" cy=\"1268.39\" r=\"14\" fill=\"#8b0000\" fill-rule=\"evenodd\" fill-opacity=\"1\" stroke=\"#000000\" stroke-opacity=\"1\" stroke-width=\"3.2\"/>\n",
       "<circle clip-path=\"url(#clip6502)\" cx=\"213.68\" cy=\"1339.41\" r=\"14\" fill=\"#8b0000\" fill-rule=\"evenodd\" fill-opacity=\"1\" stroke=\"#000000\" stroke-opacity=\"1\" stroke-width=\"3.2\"/>\n",
       "<circle clip-path=\"url(#clip6502)\" cx=\"308.71\" cy=\"1396.11\" r=\"14\" fill=\"#8b0000\" fill-rule=\"evenodd\" fill-opacity=\"1\" stroke=\"#000000\" stroke-opacity=\"1\" stroke-width=\"3.2\"/>\n",
       "<circle clip-path=\"url(#clip6502)\" cx=\"478.465\" cy=\"1432.81\" r=\"14\" fill=\"#8b0000\" fill-rule=\"evenodd\" fill-opacity=\"1\" stroke=\"#000000\" stroke-opacity=\"1\" stroke-width=\"3.2\"/>\n",
       "<circle clip-path=\"url(#clip6502)\" cx=\"696.595\" cy=\"1446.71\" r=\"14\" fill=\"#8b0000\" fill-rule=\"evenodd\" fill-opacity=\"1\" stroke=\"#000000\" stroke-opacity=\"1\" stroke-width=\"3.2\"/>\n",
       "<circle clip-path=\"url(#clip6502)\" cx=\"933.056\" cy=\"1437.98\" r=\"14\" fill=\"#8b0000\" fill-rule=\"evenodd\" fill-opacity=\"1\" stroke=\"#000000\" stroke-opacity=\"1\" stroke-width=\"3.2\"/>\n",
       "<circle clip-path=\"url(#clip6502)\" cx=\"1158\" cy=\"1409.47\" r=\"14\" fill=\"#8b0000\" fill-rule=\"evenodd\" fill-opacity=\"1\" stroke=\"#000000\" stroke-opacity=\"1\" stroke-width=\"3.2\"/>\n",
       "<circle clip-path=\"url(#clip6502)\" cx=\"1345.37\" cy=\"1366.18\" r=\"14\" fill=\"#8b0000\" fill-rule=\"evenodd\" fill-opacity=\"1\" stroke=\"#000000\" stroke-opacity=\"1\" stroke-width=\"3.2\"/>\n",
       "<circle clip-path=\"url(#clip6502)\" cx=\"1475.67\" cy=\"1314.49\" r=\"14\" fill=\"#8b0000\" fill-rule=\"evenodd\" fill-opacity=\"1\" stroke=\"#000000\" stroke-opacity=\"1\" stroke-width=\"3.2\"/>\n",
       "<path clip-path=\"url(#clip6502)\" d=\"M2270.15 854.214 L2270.15 894.214 L2310.15 894.214 L2310.15 854.214 L2270.15 854.214 Z\" fill=\"#000000\" fill-rule=\"evenodd\" fill-opacity=\"1\" stroke=\"none\"/>\n",
       "<path clip-path=\"url(#clip6502)\" d=\"M456.616 1247.32 L456.616 1287.32 L496.616 1287.32 L496.616 1247.32 L456.616 1247.32 Z\" fill=\"#000000\" fill-rule=\"evenodd\" fill-opacity=\"1\" stroke=\"none\"/>\n",
       "<path clip-path=\"url(#clip6502)\" d=\"M974.767 68.0053 L974.767 108.005 L1014.77 108.005 L1014.77 68.0053 L974.767 68.0053 Z\" fill=\"#000000\" fill-rule=\"evenodd\" fill-opacity=\"1\" stroke=\"none\"/>\n",
       "<polyline clip-path=\"url(#clip6502)\" style=\"stroke:#008000; stroke-width:4; stroke-opacity:1; fill:none\" points=\"\n",
       "  1708.01,1004.83 1371.85,1024.33 995.78,1057 761.277,1079.91 527.027,1132.75 369.019,1183.93 259.516,1255.22 203.127,1343.57 275.198,1393.72 416.947,1406.79 \n",
       "  578.071,1419.49 795.413,1440.13 1040.86,1397.5 1289.83,1347.33 1536.46,1337.86 \n",
       "  \"/>\n",
       "<circle clip-path=\"url(#clip6502)\" cx=\"1708.01\" cy=\"1004.83\" r=\"14\" fill=\"#008000\" fill-rule=\"evenodd\" fill-opacity=\"1\" stroke=\"#000000\" stroke-opacity=\"1\" stroke-width=\"3.2\"/>\n",
       "<circle clip-path=\"url(#clip6502)\" cx=\"1371.85\" cy=\"1024.33\" r=\"14\" fill=\"#008000\" fill-rule=\"evenodd\" fill-opacity=\"1\" stroke=\"#000000\" stroke-opacity=\"1\" stroke-width=\"3.2\"/>\n",
       "<circle clip-path=\"url(#clip6502)\" cx=\"995.78\" cy=\"1057\" r=\"14\" fill=\"#008000\" fill-rule=\"evenodd\" fill-opacity=\"1\" stroke=\"#000000\" stroke-opacity=\"1\" stroke-width=\"3.2\"/>\n",
       "<circle clip-path=\"url(#clip6502)\" cx=\"761.277\" cy=\"1079.91\" r=\"14\" fill=\"#008000\" fill-rule=\"evenodd\" fill-opacity=\"1\" stroke=\"#000000\" stroke-opacity=\"1\" stroke-width=\"3.2\"/>\n",
       "<circle clip-path=\"url(#clip6502)\" cx=\"527.027\" cy=\"1132.75\" r=\"14\" fill=\"#008000\" fill-rule=\"evenodd\" fill-opacity=\"1\" stroke=\"#000000\" stroke-opacity=\"1\" stroke-width=\"3.2\"/>\n",
       "<circle clip-path=\"url(#clip6502)\" cx=\"369.019\" cy=\"1183.93\" r=\"14\" fill=\"#008000\" fill-rule=\"evenodd\" fill-opacity=\"1\" stroke=\"#000000\" stroke-opacity=\"1\" stroke-width=\"3.2\"/>\n",
       "<circle clip-path=\"url(#clip6502)\" cx=\"259.516\" cy=\"1255.22\" r=\"14\" fill=\"#008000\" fill-rule=\"evenodd\" fill-opacity=\"1\" stroke=\"#000000\" stroke-opacity=\"1\" stroke-width=\"3.2\"/>\n",
       "<circle clip-path=\"url(#clip6502)\" cx=\"203.127\" cy=\"1343.57\" r=\"14\" fill=\"#008000\" fill-rule=\"evenodd\" fill-opacity=\"1\" stroke=\"#000000\" stroke-opacity=\"1\" stroke-width=\"3.2\"/>\n",
       "<circle clip-path=\"url(#clip6502)\" cx=\"275.198\" cy=\"1393.72\" r=\"14\" fill=\"#008000\" fill-rule=\"evenodd\" fill-opacity=\"1\" stroke=\"#000000\" stroke-opacity=\"1\" stroke-width=\"3.2\"/>\n",
       "<circle clip-path=\"url(#clip6502)\" cx=\"416.947\" cy=\"1406.79\" r=\"14\" fill=\"#008000\" fill-rule=\"evenodd\" fill-opacity=\"1\" stroke=\"#000000\" stroke-opacity=\"1\" stroke-width=\"3.2\"/>\n",
       "<circle clip-path=\"url(#clip6502)\" cx=\"578.071\" cy=\"1419.49\" r=\"14\" fill=\"#008000\" fill-rule=\"evenodd\" fill-opacity=\"1\" stroke=\"#000000\" stroke-opacity=\"1\" stroke-width=\"3.2\"/>\n",
       "<circle clip-path=\"url(#clip6502)\" cx=\"795.413\" cy=\"1440.13\" r=\"14\" fill=\"#008000\" fill-rule=\"evenodd\" fill-opacity=\"1\" stroke=\"#000000\" stroke-opacity=\"1\" stroke-width=\"3.2\"/>\n",
       "<circle clip-path=\"url(#clip6502)\" cx=\"1040.86\" cy=\"1397.5\" r=\"14\" fill=\"#008000\" fill-rule=\"evenodd\" fill-opacity=\"1\" stroke=\"#000000\" stroke-opacity=\"1\" stroke-width=\"3.2\"/>\n",
       "<circle clip-path=\"url(#clip6502)\" cx=\"1289.83\" cy=\"1347.33\" r=\"14\" fill=\"#008000\" fill-rule=\"evenodd\" fill-opacity=\"1\" stroke=\"#000000\" stroke-opacity=\"1\" stroke-width=\"3.2\"/>\n",
       "<circle clip-path=\"url(#clip6502)\" cx=\"1536.46\" cy=\"1337.86\" r=\"14\" fill=\"#008000\" fill-rule=\"evenodd\" fill-opacity=\"1\" stroke=\"#000000\" stroke-opacity=\"1\" stroke-width=\"3.2\"/>\n",
       "<path clip-path=\"url(#clip6500)\" d=\"\n",
       "M212.517 493.644 L1292.55 493.644 L1292.55 130.764 L212.517 130.764  Z\n",
       "  \" fill=\"#ffffff\" fill-rule=\"evenodd\" fill-opacity=\"1\"/>\n",
       "<polyline clip-path=\"url(#clip6500)\" style=\"stroke:#000000; stroke-width:4; stroke-opacity:1; fill:none\" points=\"\n",
       "  212.517,493.644 1292.55,493.644 1292.55,130.764 212.517,130.764 212.517,493.644 \n",
       "  \"/>\n",
       "<polyline clip-path=\"url(#clip6500)\" style=\"stroke:#8b0000; stroke-width:4; stroke-opacity:1; fill:none\" points=\"\n",
       "  236.517,191.244 380.517,191.244 \n",
       "  \"/>\n",
       "<g clip-path=\"url(#clip6500)\">\n",
       "<text style=\"fill:#000000; fill-opacity:1; font-family:Arial,Helvetica Neue,Helvetica,sans-serif; font-size:48px; text-anchor:start;\" transform=\"rotate(0, 404.517, 208.744)\" x=\"404.517\" y=\"208.744\">Interpolated true trajectory</text>\n",
       "</g>\n",
       "<circle clip-path=\"url(#clip6500)\" cx=\"320.517\" cy=\"251.724\" r=\"21\" fill=\"#8b0000\" fill-rule=\"evenodd\" fill-opacity=\"1\" stroke=\"#000000\" stroke-opacity=\"1\" stroke-width=\"3.2\"/>\n",
       "<g clip-path=\"url(#clip6500)\">\n",
       "<text style=\"fill:#000000; fill-opacity:1; font-family:Arial,Helvetica Neue,Helvetica,sans-serif; font-size:48px; text-anchor:start;\" transform=\"rotate(0, 404.517, 269.224)\" x=\"404.517\" y=\"269.224\">True positions</text>\n",
       "</g>\n",
       "<path clip-path=\"url(#clip6500)\" d=\"M296.517 288.204 L296.517 336.204 L344.517 336.204 L344.517 288.204 L296.517 288.204 Z\" fill=\"#000000\" fill-rule=\"evenodd\" fill-opacity=\"1\" stroke=\"none\"/>\n",
       "<g clip-path=\"url(#clip6500)\">\n",
       "<text style=\"fill:#000000; fill-opacity:1; font-family:Arial,Helvetica Neue,Helvetica,sans-serif; font-size:48px; text-anchor:start;\" transform=\"rotate(0, 404.517, 329.704)\" x=\"404.517\" y=\"329.704\">sensors</text>\n",
       "</g>\n",
       "<polyline clip-path=\"url(#clip6500)\" style=\"stroke:#008000; stroke-width:4; stroke-opacity:1; fill:none\" points=\"\n",
       "  236.517,372.684 380.517,372.684 \n",
       "  \"/>\n",
       "<g clip-path=\"url(#clip6500)\">\n",
       "<text style=\"fill:#000000; fill-opacity:1; font-family:Arial,Helvetica Neue,Helvetica,sans-serif; font-size:48px; text-anchor:start;\" transform=\"rotate(0, 404.517, 390.184)\" x=\"404.517\" y=\"390.184\">Interpolated smoothed trajectory SVMP</text>\n",
       "</g>\n",
       "<circle clip-path=\"url(#clip6500)\" cx=\"320.517\" cy=\"433.164\" r=\"21\" fill=\"#008000\" fill-rule=\"evenodd\" fill-opacity=\"1\" stroke=\"#000000\" stroke-opacity=\"1\" stroke-width=\"3.2\"/>\n",
       "<g clip-path=\"url(#clip6500)\">\n",
       "<text style=\"fill:#000000; fill-opacity:1; font-family:Arial,Helvetica Neue,Helvetica,sans-serif; font-size:48px; text-anchor:start;\" transform=\"rotate(0, 404.517, 450.664)\" x=\"404.517\" y=\"450.664\">Estimated position expectations SVMP</text>\n",
       "</g>\n",
       "</svg>\n"
      ]
     },
     "execution_count": 23,
     "metadata": {},
     "output_type": "execute_result"
    }
   ],
   "source": [
    "smooth_plot = zeros(2,T)\n",
    "for t=1:T\n",
    "    smooth_plot[:,t] = mean(q_z_marg[t])[1:2]\n",
    "end\n",
    "plot(position[1,:],position[2,:],color=:redsblues,legend=:topright, label=\"Interpolated true trajectory\")\n",
    "plot!(position[1,:],position[2,:], seriestype = :scatter,color=:redsblues, label=\"True positions\")\n",
    "plot!([sensor1[1],sensor2[1],sensor3[1]],[sensor1[2],sensor2[2],sensor3[2]],seriestype = :scatter,color=:black, markersize=5, markershape=:square, label=\"sensors\")\n",
    "plot!(smooth_plot[1,:],smooth_plot[2,:],color=:green,legend=:topleft, label=\"Interpolated smoothed trajectory SVMP\")\n",
    "plot!(smooth_plot[1,:],smooth_plot[2,:], seriestype = :scatter,color=:green, label=\"Estimated position expectations SVMP\")"
   ]
  },
  {
   "cell_type": "code",
   "execution_count": 24,
   "metadata": {},
   "outputs": [],
   "source": [
    "writedlm(\"SVMP_FE_x.txt\", SVMP_FE_x)\n",
    "writedlm(\"SVMP_FE_y.txt\", SVMP_FE_y)\n",
    "writedlm(\"SVMP_q_z_mean.txt\", smooth_plot)"
   ]
  },
  {
   "cell_type": "code",
   "execution_count": 26,
   "metadata": {},
   "outputs": [
    {
     "name": "stdout",
     "output_type": "stream",
     "text": [
      "smooth_plot = [2.75302 1.45549 0.00390832 -0.901242 -1.80542 -2.41531 -2.83798 -3.05563 -2.77745 -2.23031 -1.6084 -0.76948 0.177925 1.13891 2.09088; 3.33867 3.09068 2.67516 2.38368 1.71166 1.0606 0.153865 -0.969873 -1.60779 -1.77397 -1.93557 -2.1981 -1.65575 -1.01767 -0.897263]\n"
     ]
    }
   ],
   "source": [
    "@show smooth_plot;"
   ]
  },
  {
   "cell_type": "code",
   "execution_count": 27,
   "metadata": {},
   "outputs": [
    {
     "data": {
      "image/svg+xml": [
       "<?xml version=\"1.0\" encoding=\"utf-8\"?>\n",
       "<svg xmlns=\"http://www.w3.org/2000/svg\" xmlns:xlink=\"http://www.w3.org/1999/xlink\" width=\"600\" height=\"400\" viewBox=\"0 0 2400 1600\">\n",
       "<defs>\n",
       "  <clipPath id=\"clip6900\">\n",
       "    <rect x=\"0\" y=\"0\" width=\"2400\" height=\"1600\"/>\n",
       "  </clipPath>\n",
       "</defs>\n",
       "<path clip-path=\"url(#clip6900)\" d=\"\n",
       "M0 1600 L2400 1600 L2400 0 L0 0  Z\n",
       "  \" fill=\"#ffffff\" fill-rule=\"evenodd\" fill-opacity=\"1\"/>\n",
       "<defs>\n",
       "  <clipPath id=\"clip6901\">\n",
       "    <rect x=\"480\" y=\"0\" width=\"1681\" height=\"1600\"/>\n",
       "  </clipPath>\n",
       "</defs>\n",
       "<path clip-path=\"url(#clip6900)\" d=\"\n",
       "M202.373 1425.62 L2352.76 1425.62 L2352.76 47.2441 L202.373 47.2441  Z\n",
       "  \" fill=\"#ffffff\" fill-rule=\"evenodd\" fill-opacity=\"1\"/>\n",
       "<defs>\n",
       "  <clipPath id=\"clip6902\">\n",
       "    <rect x=\"202\" y=\"47\" width=\"2151\" height=\"1379\"/>\n",
       "  </clipPath>\n",
       "</defs>\n",
       "<polyline clip-path=\"url(#clip6902)\" style=\"stroke:#000000; stroke-width:2; stroke-opacity:0.1; fill:none\" points=\"\n",
       "  429.058,1425.62 429.058,47.2441 \n",
       "  \"/>\n",
       "<polyline clip-path=\"url(#clip6902)\" style=\"stroke:#000000; stroke-width:2; stroke-opacity:0.1; fill:none\" points=\"\n",
       "  995.267,1425.62 995.267,47.2441 \n",
       "  \"/>\n",
       "<polyline clip-path=\"url(#clip6902)\" style=\"stroke:#000000; stroke-width:2; stroke-opacity:0.1; fill:none\" points=\"\n",
       "  1561.48,1425.62 1561.48,47.2441 \n",
       "  \"/>\n",
       "<polyline clip-path=\"url(#clip6902)\" style=\"stroke:#000000; stroke-width:2; stroke-opacity:0.1; fill:none\" points=\"\n",
       "  2127.69,1425.62 2127.69,47.2441 \n",
       "  \"/>\n",
       "<polyline clip-path=\"url(#clip6902)\" style=\"stroke:#000000; stroke-width:2; stroke-opacity:0.1; fill:none\" points=\"\n",
       "  202.373,1248.95 2352.76,1248.95 \n",
       "  \"/>\n",
       "<polyline clip-path=\"url(#clip6902)\" style=\"stroke:#000000; stroke-width:2; stroke-opacity:0.1; fill:none\" points=\"\n",
       "  202.373,882.847 2352.76,882.847 \n",
       "  \"/>\n",
       "<polyline clip-path=\"url(#clip6902)\" style=\"stroke:#000000; stroke-width:2; stroke-opacity:0.1; fill:none\" points=\"\n",
       "  202.373,516.742 2352.76,516.742 \n",
       "  \"/>\n",
       "<polyline clip-path=\"url(#clip6902)\" style=\"stroke:#000000; stroke-width:2; stroke-opacity:0.1; fill:none\" points=\"\n",
       "  202.373,150.637 2352.76,150.637 \n",
       "  \"/>\n",
       "<polyline clip-path=\"url(#clip6900)\" style=\"stroke:#000000; stroke-width:4; stroke-opacity:1; fill:none\" points=\"\n",
       "  202.373,1425.62 2352.76,1425.62 \n",
       "  \"/>\n",
       "<polyline clip-path=\"url(#clip6900)\" style=\"stroke:#000000; stroke-width:4; stroke-opacity:1; fill:none\" points=\"\n",
       "  202.373,1425.62 202.373,47.2441 \n",
       "  \"/>\n",
       "<polyline clip-path=\"url(#clip6900)\" style=\"stroke:#000000; stroke-width:4; stroke-opacity:1; fill:none\" points=\"\n",
       "  429.058,1425.62 429.058,1409.08 \n",
       "  \"/>\n",
       "<polyline clip-path=\"url(#clip6900)\" style=\"stroke:#000000; stroke-width:4; stroke-opacity:1; fill:none\" points=\"\n",
       "  995.267,1425.62 995.267,1409.08 \n",
       "  \"/>\n",
       "<polyline clip-path=\"url(#clip6900)\" style=\"stroke:#000000; stroke-width:4; stroke-opacity:1; fill:none\" points=\"\n",
       "  1561.48,1425.62 1561.48,1409.08 \n",
       "  \"/>\n",
       "<polyline clip-path=\"url(#clip6900)\" style=\"stroke:#000000; stroke-width:4; stroke-opacity:1; fill:none\" points=\"\n",
       "  2127.69,1425.62 2127.69,1409.08 \n",
       "  \"/>\n",
       "<polyline clip-path=\"url(#clip6900)\" style=\"stroke:#000000; stroke-width:4; stroke-opacity:1; fill:none\" points=\"\n",
       "  202.373,1248.95 228.178,1248.95 \n",
       "  \"/>\n",
       "<polyline clip-path=\"url(#clip6900)\" style=\"stroke:#000000; stroke-width:4; stroke-opacity:1; fill:none\" points=\"\n",
       "  202.373,882.847 228.178,882.847 \n",
       "  \"/>\n",
       "<polyline clip-path=\"url(#clip6900)\" style=\"stroke:#000000; stroke-width:4; stroke-opacity:1; fill:none\" points=\"\n",
       "  202.373,516.742 228.178,516.742 \n",
       "  \"/>\n",
       "<polyline clip-path=\"url(#clip6900)\" style=\"stroke:#000000; stroke-width:4; stroke-opacity:1; fill:none\" points=\"\n",
       "  202.373,150.637 228.178,150.637 \n",
       "  \"/>\n",
       "<g clip-path=\"url(#clip6900)\">\n",
       "<text style=\"fill:#000000; fill-opacity:1; font-family:Arial,Helvetica Neue,Helvetica,sans-serif; font-size:48px; text-anchor:middle;\" transform=\"rotate(0, 429.058, 1479.62)\" x=\"429.058\" y=\"1479.62\">500</text>\n",
       "</g>\n",
       "<g clip-path=\"url(#clip6900)\">\n",
       "<text style=\"fill:#000000; fill-opacity:1; font-family:Arial,Helvetica Neue,Helvetica,sans-serif; font-size:48px; text-anchor:middle;\" transform=\"rotate(0, 995.267, 1479.62)\" x=\"995.267\" y=\"1479.62\">1000</text>\n",
       "</g>\n",
       "<g clip-path=\"url(#clip6900)\">\n",
       "<text style=\"fill:#000000; fill-opacity:1; font-family:Arial,Helvetica Neue,Helvetica,sans-serif; font-size:48px; text-anchor:middle;\" transform=\"rotate(0, 1561.48, 1479.62)\" x=\"1561.48\" y=\"1479.62\">1500</text>\n",
       "</g>\n",
       "<g clip-path=\"url(#clip6900)\">\n",
       "<text style=\"fill:#000000; fill-opacity:1; font-family:Arial,Helvetica Neue,Helvetica,sans-serif; font-size:48px; text-anchor:middle;\" transform=\"rotate(0, 2127.69, 1479.62)\" x=\"2127.69\" y=\"1479.62\">2000</text>\n",
       "</g>\n",
       "<g clip-path=\"url(#clip6900)\">\n",
       "<text style=\"fill:#000000; fill-opacity:1; font-family:Arial,Helvetica Neue,Helvetica,sans-serif; font-size:48px; text-anchor:end;\" transform=\"rotate(0, 178.373, 1266.45)\" x=\"178.373\" y=\"1266.45\">30</text>\n",
       "</g>\n",
       "<g clip-path=\"url(#clip6900)\">\n",
       "<text style=\"fill:#000000; fill-opacity:1; font-family:Arial,Helvetica Neue,Helvetica,sans-serif; font-size:48px; text-anchor:end;\" transform=\"rotate(0, 178.373, 900.347)\" x=\"178.373\" y=\"900.347\">35</text>\n",
       "</g>\n",
       "<g clip-path=\"url(#clip6900)\">\n",
       "<text style=\"fill:#000000; fill-opacity:1; font-family:Arial,Helvetica Neue,Helvetica,sans-serif; font-size:48px; text-anchor:end;\" transform=\"rotate(0, 178.373, 534.242)\" x=\"178.373\" y=\"534.242\">40</text>\n",
       "</g>\n",
       "<g clip-path=\"url(#clip6900)\">\n",
       "<text style=\"fill:#000000; fill-opacity:1; font-family:Arial,Helvetica Neue,Helvetica,sans-serif; font-size:48px; text-anchor:end;\" transform=\"rotate(0, 178.373, 168.137)\" x=\"178.373\" y=\"168.137\">45</text>\n",
       "</g>\n",
       "<g clip-path=\"url(#clip6900)\">\n",
       "<text style=\"fill:#000000; fill-opacity:1; font-family:Arial,Helvetica Neue,Helvetica,sans-serif; font-size:66px; text-anchor:middle;\" transform=\"rotate(0, 1277.56, 1559.48)\" x=\"1277.56\" y=\"1559.48\">Time (seconds)</text>\n",
       "</g>\n",
       "<g clip-path=\"url(#clip6900)\">\n",
       "<text style=\"fill:#000000; fill-opacity:1; font-family:Arial,Helvetica Neue,Helvetica,sans-serif; font-size:66px; text-anchor:middle;\" transform=\"rotate(-90, 89.2861, 736.431)\" x=\"89.2861\" y=\"736.431\">Free energy</text>\n",
       "</g>\n",
       "<polyline clip-path=\"url(#clip6902)\" style=\"stroke:#008000; stroke-width:4; stroke-opacity:1; fill:none\" points=\"\n",
       "  263.233,86.2547 348.075,402.693 348.185,613.238 748.501,719.427 830.973,787.131 830.973,1035.23 1236.36,1054.3 1319.11,1051.85 1319.11,1221.88 1727.18,1219.83 \n",
       "  1810.74,1229.44 1810.74,1302.04 2210.59,1328.65 2291.9,1321.02 2291.9,1386.61 \n",
       "  \"/>\n",
       "<path clip-path=\"url(#clip6900)\" d=\"\n",
       "M1904.34 251.724 L2280.76 251.724 L2280.76 130.764 L1904.34 130.764  Z\n",
       "  \" fill=\"#ffffff\" fill-rule=\"evenodd\" fill-opacity=\"1\"/>\n",
       "<polyline clip-path=\"url(#clip6900)\" style=\"stroke:#000000; stroke-width:4; stroke-opacity:1; fill:none\" points=\"\n",
       "  1904.34,251.724 2280.76,251.724 2280.76,130.764 1904.34,130.764 1904.34,251.724 \n",
       "  \"/>\n",
       "<polyline clip-path=\"url(#clip6900)\" style=\"stroke:#008000; stroke-width:4; stroke-opacity:1; fill:none\" points=\"\n",
       "  1928.34,191.244 2072.34,191.244 \n",
       "  \"/>\n",
       "<g clip-path=\"url(#clip6900)\">\n",
       "<text style=\"fill:#000000; fill-opacity:1; font-family:Arial,Helvetica Neue,Helvetica,sans-serif; font-size:48px; text-anchor:start;\" transform=\"rotate(0, 2096.34, 208.744)\" x=\"2096.34\" y=\"208.744\">SVMP</text>\n",
       "</g>\n",
       "</svg>\n"
      ]
     },
     "execution_count": 27,
     "metadata": {},
     "output_type": "execute_result"
    }
   ],
   "source": [
    "# Plot free energy over time\n",
    "plot(SVMP_FE_x, SVMP_FE_y, color=:green, label=\"SVMP\", xlabel = \"Time (seconds)\", ylabel = \"Free energy\")"
   ]
  },
  {
   "cell_type": "code",
   "execution_count": null,
   "metadata": {},
   "outputs": [],
   "source": []
  }
 ],
 "metadata": {
  "@webio": {
   "lastCommId": null,
   "lastKernelId": null
  },
  "kernelspec": {
   "display_name": "Julia 1.0.2",
   "language": "julia",
   "name": "julia-1.0"
  },
  "language_info": {
   "file_extension": ".jl",
   "mimetype": "application/julia",
   "name": "julia",
   "version": "1.0.2"
  }
 },
 "nbformat": 4,
 "nbformat_minor": 4
}
